{
  "nbformat": 4,
  "nbformat_minor": 0,
  "metadata": {
    "colab": {
      "name": "Hepatitis_Pycaret.ipynb",
      "provenance": [],
      "authorship_tag": "ABX9TyPLKRASBW8DGKcLc8xL1KM2",
      "include_colab_link": true
    },
    "kernelspec": {
      "name": "python3",
      "display_name": "Python 3"
    },
    "widgets": {
      "application/vnd.jupyter.widget-state+json": {
        "e0dab6dd6fe34032af7dd5bec6a5dac6": {
          "model_module": "@jupyter-widgets/controls",
          "model_name": "IntProgressModel",
          "state": {
            "_view_name": "ProgressView",
            "style": "IPY_MODEL_63f68460b48f427a8560843e5d925257",
            "_dom_classes": [],
            "description": "Processing: ",
            "_model_name": "IntProgressModel",
            "bar_style": "",
            "max": 13,
            "_view_module": "@jupyter-widgets/controls",
            "_model_module_version": "1.5.0",
            "value": 3,
            "_view_count": null,
            "_view_module_version": "1.5.0",
            "orientation": "horizontal",
            "min": 0,
            "description_tooltip": null,
            "_model_module": "@jupyter-widgets/controls",
            "layout": "IPY_MODEL_d19aac75a6e94da6b228a574f3ddb7e2"
          }
        },
        "63f68460b48f427a8560843e5d925257": {
          "model_module": "@jupyter-widgets/controls",
          "model_name": "ProgressStyleModel",
          "state": {
            "_view_name": "StyleView",
            "_model_name": "ProgressStyleModel",
            "description_width": "",
            "_view_module": "@jupyter-widgets/base",
            "_model_module_version": "1.5.0",
            "_view_count": null,
            "_view_module_version": "1.2.0",
            "bar_color": null,
            "_model_module": "@jupyter-widgets/controls"
          }
        },
        "d19aac75a6e94da6b228a574f3ddb7e2": {
          "model_module": "@jupyter-widgets/base",
          "model_name": "LayoutModel",
          "state": {
            "_view_name": "LayoutView",
            "grid_template_rows": null,
            "right": null,
            "justify_content": null,
            "_view_module": "@jupyter-widgets/base",
            "overflow": null,
            "_model_module_version": "1.2.0",
            "_view_count": null,
            "flex_flow": null,
            "width": null,
            "min_width": null,
            "border": null,
            "align_items": null,
            "bottom": null,
            "_model_module": "@jupyter-widgets/base",
            "top": null,
            "grid_column": null,
            "overflow_y": null,
            "overflow_x": null,
            "grid_auto_flow": null,
            "grid_area": null,
            "grid_template_columns": null,
            "flex": null,
            "_model_name": "LayoutModel",
            "justify_items": null,
            "grid_row": null,
            "max_height": null,
            "align_content": null,
            "visibility": null,
            "align_self": null,
            "height": null,
            "min_height": null,
            "padding": null,
            "grid_auto_rows": null,
            "grid_gap": null,
            "max_width": null,
            "order": null,
            "_view_module_version": "1.2.0",
            "grid_template_areas": null,
            "object_position": null,
            "object_fit": null,
            "grid_auto_columns": null,
            "margin": null,
            "display": null,
            "left": null
          }
        },
        "24fc4c939f5a408a8003182e1815d5cc": {
          "model_module": "@jupyter-widgets/controls",
          "model_name": "TextModel",
          "state": {
            "_view_name": "TextView",
            "style": "IPY_MODEL_90a2aa7bfa7b4ea88dbf03520867f2e5",
            "_dom_classes": [],
            "description": "",
            "_model_name": "TextModel",
            "placeholder": "​",
            "_view_module": "@jupyter-widgets/controls",
            "_model_module_version": "1.5.0",
            "value": "Following data types have been inferred automatically, if they are correct press enter to continue or type 'quit' otherwise.",
            "_view_count": null,
            "disabled": false,
            "_view_module_version": "1.5.0",
            "continuous_update": true,
            "description_tooltip": null,
            "_model_module": "@jupyter-widgets/controls",
            "layout": "IPY_MODEL_5f066627f1264a65858ee36825c38f6f"
          }
        },
        "90a2aa7bfa7b4ea88dbf03520867f2e5": {
          "model_module": "@jupyter-widgets/controls",
          "model_name": "DescriptionStyleModel",
          "state": {
            "_view_name": "StyleView",
            "_model_name": "DescriptionStyleModel",
            "description_width": "",
            "_view_module": "@jupyter-widgets/base",
            "_model_module_version": "1.5.0",
            "_view_count": null,
            "_view_module_version": "1.2.0",
            "_model_module": "@jupyter-widgets/controls"
          }
        },
        "5f066627f1264a65858ee36825c38f6f": {
          "model_module": "@jupyter-widgets/base",
          "model_name": "LayoutModel",
          "state": {
            "_view_name": "LayoutView",
            "grid_template_rows": null,
            "right": null,
            "justify_content": null,
            "_view_module": "@jupyter-widgets/base",
            "overflow": null,
            "_model_module_version": "1.2.0",
            "_view_count": null,
            "flex_flow": null,
            "width": "100%",
            "min_width": null,
            "border": null,
            "align_items": null,
            "bottom": null,
            "_model_module": "@jupyter-widgets/base",
            "top": null,
            "grid_column": null,
            "overflow_y": null,
            "overflow_x": null,
            "grid_auto_flow": null,
            "grid_area": null,
            "grid_template_columns": null,
            "flex": null,
            "_model_name": "LayoutModel",
            "justify_items": null,
            "grid_row": null,
            "max_height": null,
            "align_content": null,
            "visibility": null,
            "align_self": null,
            "height": null,
            "min_height": null,
            "padding": null,
            "grid_auto_rows": null,
            "grid_gap": null,
            "max_width": null,
            "order": null,
            "_view_module_version": "1.2.0",
            "grid_template_areas": null,
            "object_position": null,
            "object_fit": null,
            "grid_auto_columns": null,
            "margin": null,
            "display": null,
            "left": null
          }
        },
        "67154f8f0a0540e9966181916e4e44ce": {
          "model_module": "@jupyter-widgets/controls",
          "model_name": "IntProgressModel",
          "state": {
            "_view_name": "ProgressView",
            "style": "IPY_MODEL_5a31c79bfb664368b49ad75e54aa9bb3",
            "_dom_classes": [],
            "description": "Processing: ",
            "_model_name": "IntProgressModel",
            "bar_style": "",
            "max": 170,
            "_view_module": "@jupyter-widgets/controls",
            "_model_module_version": "1.5.0",
            "value": 170,
            "_view_count": null,
            "_view_module_version": "1.5.0",
            "orientation": "horizontal",
            "min": 0,
            "description_tooltip": null,
            "_model_module": "@jupyter-widgets/controls",
            "layout": "IPY_MODEL_f8d96209aadc4e8f8478cd281c383ee2"
          }
        },
        "5a31c79bfb664368b49ad75e54aa9bb3": {
          "model_module": "@jupyter-widgets/controls",
          "model_name": "ProgressStyleModel",
          "state": {
            "_view_name": "StyleView",
            "_model_name": "ProgressStyleModel",
            "description_width": "",
            "_view_module": "@jupyter-widgets/base",
            "_model_module_version": "1.5.0",
            "_view_count": null,
            "_view_module_version": "1.2.0",
            "bar_color": null,
            "_model_module": "@jupyter-widgets/controls"
          }
        },
        "f8d96209aadc4e8f8478cd281c383ee2": {
          "model_module": "@jupyter-widgets/base",
          "model_name": "LayoutModel",
          "state": {
            "_view_name": "LayoutView",
            "grid_template_rows": null,
            "right": null,
            "justify_content": null,
            "_view_module": "@jupyter-widgets/base",
            "overflow": null,
            "_model_module_version": "1.2.0",
            "_view_count": null,
            "flex_flow": null,
            "width": null,
            "min_width": null,
            "border": null,
            "align_items": null,
            "bottom": null,
            "_model_module": "@jupyter-widgets/base",
            "top": null,
            "grid_column": null,
            "overflow_y": null,
            "overflow_x": null,
            "grid_auto_flow": null,
            "grid_area": null,
            "grid_template_columns": null,
            "flex": null,
            "_model_name": "LayoutModel",
            "justify_items": null,
            "grid_row": null,
            "max_height": null,
            "align_content": null,
            "visibility": null,
            "align_self": null,
            "height": null,
            "min_height": null,
            "padding": null,
            "grid_auto_rows": null,
            "grid_gap": null,
            "max_width": null,
            "order": null,
            "_view_module_version": "1.2.0",
            "grid_template_areas": null,
            "object_position": null,
            "object_fit": null,
            "grid_auto_columns": null,
            "margin": null,
            "display": null,
            "left": null
          }
        }
      }
    }
  },
  "cells": [
    {
      "cell_type": "markdown",
      "metadata": {
        "id": "view-in-github",
        "colab_type": "text"
      },
      "source": [
        "<a href=\"https://colab.research.google.com/github/Datascience67/Spoon-Knife/blob/master/Hepatitis_Pycaret.ipynb\" target=\"_parent\"><img src=\"https://colab.research.google.com/assets/colab-badge.svg\" alt=\"Open In Colab\"/></a>"
      ]
    },
    {
      "cell_type": "code",
      "metadata": {
        "id": "YIk152AO0NRO",
        "colab_type": "code",
        "colab": {}
      },
      "source": [
        ""
      ],
      "execution_count": null,
      "outputs": []
    },
    {
      "cell_type": "code",
      "metadata": {
        "id": "Lz5nzMK20Yie",
        "colab_type": "code",
        "colab": {}
      },
      "source": [
        "import pandas as pd\n",
        "import numpy as np\n",
        "\n",
        "\n",
        "\n"
      ],
      "execution_count": 1,
      "outputs": []
    },
    {
      "cell_type": "code",
      "metadata": {
        "id": "3Lc_BhTo0Yfo",
        "colab_type": "code",
        "colab": {
          "base_uri": "https://localhost:8080/",
          "height": 510
        },
        "outputId": "3ab3244d-4a10-4334-a218-51018ae3f83b"
      },
      "source": [
        "!pip install pycaret --quiet"
      ],
      "execution_count": 2,
      "outputs": [
        {
          "output_type": "stream",
          "text": [
            "\u001b[K     |████████████████████████████████| 194kB 5.3MB/s \n",
            "\u001b[K     |████████████████████████████████| 3.2MB 18.8MB/s \n",
            "\u001b[K     |████████████████████████████████| 266kB 50.1MB/s \n",
            "\u001b[K     |████████████████████████████████| 1.2MB 36.3MB/s \n",
            "\u001b[K     |████████████████████████████████| 81kB 9.5MB/s \n",
            "\u001b[K     |████████████████████████████████| 61kB 7.9MB/s \n",
            "\u001b[K     |████████████████████████████████| 102kB 10.2MB/s \n",
            "\u001b[K     |████████████████████████████████| 63.9MB 56kB/s \n",
            "\u001b[K     |████████████████████████████████| 7.0MB 47.4MB/s \n",
            "\u001b[K     |████████████████████████████████| 133kB 53.0MB/s \n",
            "\u001b[K     |████████████████████████████████| 1.6MB 38.0MB/s \n",
            "\u001b[K     |████████████████████████████████| 389kB 47.2MB/s \n",
            "\u001b[K     |████████████████████████████████| 51kB 5.2MB/s \n",
            "\u001b[K     |████████████████████████████████| 6.3MB 42.9MB/s \n",
            "\u001b[K     |████████████████████████████████| 71kB 8.7MB/s \n",
            "\u001b[K     |████████████████████████████████| 235kB 37.9MB/s \n",
            "\u001b[K     |████████████████████████████████| 2.1MB 40.2MB/s \n",
            "\u001b[K     |████████████████████████████████| 604kB 47.2MB/s \n",
            "\u001b[K     |████████████████████████████████| 71kB 8.1MB/s \n",
            "\u001b[K     |████████████████████████████████| 552kB 40.0MB/s \n",
            "\u001b[?25h  Building wheel for shap (setup.py) ... \u001b[?25l\u001b[?25hdone\n",
            "  Building wheel for cufflinks (setup.py) ... \u001b[?25l\u001b[?25hdone\n",
            "  Building wheel for pyod (setup.py) ... \u001b[?25l\u001b[?25hdone\n",
            "  Building wheel for pandas-profiling (setup.py) ... \u001b[?25l\u001b[?25hdone\n",
            "  Building wheel for pyLDAvis (setup.py) ... \u001b[?25l\u001b[?25hdone\n",
            "  Building wheel for combo (setup.py) ... \u001b[?25l\u001b[?25hdone\n",
            "  Building wheel for suod (setup.py) ... \u001b[?25l\u001b[?25hdone\n",
            "  Building wheel for htmlmin (setup.py) ... \u001b[?25l\u001b[?25hdone\n",
            "  Building wheel for funcy (setup.py) ... \u001b[?25l\u001b[?25hdone\n"
          ],
          "name": "stdout"
        }
      ]
    },
    {
      "cell_type": "code",
      "metadata": {
        "id": "Rxh1iDIC0YeM",
        "colab_type": "code",
        "colab": {
          "base_uri": "https://localhost:8080/",
          "height": 34
        },
        "outputId": "619e01df-7347-4347-a7ac-dffeeae43dce"
      },
      "source": [
        "from pycaret.utils import enable_colab \n",
        "enable_colab()"
      ],
      "execution_count": 8,
      "outputs": [
        {
          "output_type": "display_data",
          "data": {
            "text/html": [
              "\n",
              "            <script src=\"/static/components/requirejs/require.js\"></script>\n",
              "            <script>\n",
              "              requirejs.config({\n",
              "                paths: {\n",
              "                  base: '/static/base',\n",
              "                  plotly: 'https://cdn.plot.ly/plotly-latest.min.js?noext',\n",
              "                },\n",
              "              });\n",
              "            </script>\n",
              "            "
            ],
            "text/plain": [
              "<IPython.core.display.HTML object>"
            ]
          },
          "metadata": {
            "tags": []
          }
        },
        {
          "output_type": "stream",
          "text": [
            "Colab mode activated.\n"
          ],
          "name": "stdout"
        }
      ]
    },
    {
      "cell_type": "code",
      "metadata": {
        "id": "XmvKUrcC0Ycf",
        "colab_type": "code",
        "colab": {
          "base_uri": "https://localhost:8080/",
          "height": 241
        },
        "outputId": "9579344b-01d0-419a-83e6-177d0887469b"
      },
      "source": [
        "from pycaret.datasets import get_data\n",
        "dataset = get_data('hepatitis')"
      ],
      "execution_count": 11,
      "outputs": [
        {
          "output_type": "display_data",
          "data": {
            "text/html": [
              "\n",
              "            <script src=\"/static/components/requirejs/require.js\"></script>\n",
              "            <script>\n",
              "              requirejs.config({\n",
              "                paths: {\n",
              "                  base: '/static/base',\n",
              "                  plotly: 'https://cdn.plot.ly/plotly-latest.min.js?noext',\n",
              "                },\n",
              "              });\n",
              "            </script>\n",
              "            "
            ],
            "text/plain": [
              "<IPython.core.display.HTML object>"
            ]
          },
          "metadata": {
            "tags": []
          }
        },
        {
          "output_type": "display_data",
          "data": {
            "text/html": [
              "\n",
              "            <script src=\"/static/components/requirejs/require.js\"></script>\n",
              "            <script>\n",
              "              requirejs.config({\n",
              "                paths: {\n",
              "                  base: '/static/base',\n",
              "                  plotly: 'https://cdn.plot.ly/plotly-latest.min.js?noext',\n",
              "                },\n",
              "              });\n",
              "            </script>\n",
              "            "
            ],
            "text/plain": [
              "<IPython.core.display.HTML object>"
            ]
          },
          "metadata": {
            "tags": []
          }
        },
        {
          "output_type": "display_data",
          "data": {
            "text/html": [
              "<div>\n",
              "<style scoped>\n",
              "    .dataframe tbody tr th:only-of-type {\n",
              "        vertical-align: middle;\n",
              "    }\n",
              "\n",
              "    .dataframe tbody tr th {\n",
              "        vertical-align: top;\n",
              "    }\n",
              "\n",
              "    .dataframe thead th {\n",
              "        text-align: right;\n",
              "    }\n",
              "</style>\n",
              "<table border=\"1\" class=\"dataframe\">\n",
              "  <thead>\n",
              "    <tr style=\"text-align: right;\">\n",
              "      <th></th>\n",
              "      <th>Class</th>\n",
              "      <th>AGE</th>\n",
              "      <th>SEX</th>\n",
              "      <th>STEROID</th>\n",
              "      <th>ANTIVIRALS</th>\n",
              "      <th>FATIGUE</th>\n",
              "      <th>MALAISE</th>\n",
              "      <th>ANOREXIA</th>\n",
              "      <th>LIVER BIG</th>\n",
              "      <th>LIVER FIRM</th>\n",
              "      <th>SPLEEN PALPABLE</th>\n",
              "      <th>SPIDERS</th>\n",
              "      <th>ASCITES</th>\n",
              "      <th>VARICES</th>\n",
              "      <th>BILIRUBIN</th>\n",
              "      <th>ALK PHOSPHATE</th>\n",
              "      <th>SGOT</th>\n",
              "      <th>ALBUMIN</th>\n",
              "      <th>PROTIME</th>\n",
              "      <th>HISTOLOGY</th>\n",
              "    </tr>\n",
              "  </thead>\n",
              "  <tbody>\n",
              "    <tr>\n",
              "      <th>0</th>\n",
              "      <td>0</td>\n",
              "      <td>30</td>\n",
              "      <td>2</td>\n",
              "      <td>1.0</td>\n",
              "      <td>2</td>\n",
              "      <td>2</td>\n",
              "      <td>2</td>\n",
              "      <td>2</td>\n",
              "      <td>1.0</td>\n",
              "      <td>2.0</td>\n",
              "      <td>2.0</td>\n",
              "      <td>2.0</td>\n",
              "      <td>2.0</td>\n",
              "      <td>2.0</td>\n",
              "      <td>1.0</td>\n",
              "      <td>85.0</td>\n",
              "      <td>18.0</td>\n",
              "      <td>4.0</td>\n",
              "      <td>NaN</td>\n",
              "      <td>1</td>\n",
              "    </tr>\n",
              "    <tr>\n",
              "      <th>1</th>\n",
              "      <td>0</td>\n",
              "      <td>50</td>\n",
              "      <td>1</td>\n",
              "      <td>1.0</td>\n",
              "      <td>2</td>\n",
              "      <td>1</td>\n",
              "      <td>2</td>\n",
              "      <td>2</td>\n",
              "      <td>1.0</td>\n",
              "      <td>2.0</td>\n",
              "      <td>2.0</td>\n",
              "      <td>2.0</td>\n",
              "      <td>2.0</td>\n",
              "      <td>2.0</td>\n",
              "      <td>0.9</td>\n",
              "      <td>135.0</td>\n",
              "      <td>42.0</td>\n",
              "      <td>3.5</td>\n",
              "      <td>NaN</td>\n",
              "      <td>1</td>\n",
              "    </tr>\n",
              "    <tr>\n",
              "      <th>2</th>\n",
              "      <td>0</td>\n",
              "      <td>78</td>\n",
              "      <td>1</td>\n",
              "      <td>2.0</td>\n",
              "      <td>2</td>\n",
              "      <td>1</td>\n",
              "      <td>2</td>\n",
              "      <td>2</td>\n",
              "      <td>2.0</td>\n",
              "      <td>2.0</td>\n",
              "      <td>2.0</td>\n",
              "      <td>2.0</td>\n",
              "      <td>2.0</td>\n",
              "      <td>2.0</td>\n",
              "      <td>0.7</td>\n",
              "      <td>96.0</td>\n",
              "      <td>32.0</td>\n",
              "      <td>4.0</td>\n",
              "      <td>NaN</td>\n",
              "      <td>1</td>\n",
              "    </tr>\n",
              "    <tr>\n",
              "      <th>3</th>\n",
              "      <td>0</td>\n",
              "      <td>31</td>\n",
              "      <td>1</td>\n",
              "      <td>NaN</td>\n",
              "      <td>1</td>\n",
              "      <td>2</td>\n",
              "      <td>2</td>\n",
              "      <td>2</td>\n",
              "      <td>2.0</td>\n",
              "      <td>2.0</td>\n",
              "      <td>2.0</td>\n",
              "      <td>2.0</td>\n",
              "      <td>2.0</td>\n",
              "      <td>2.0</td>\n",
              "      <td>0.7</td>\n",
              "      <td>46.0</td>\n",
              "      <td>52.0</td>\n",
              "      <td>4.0</td>\n",
              "      <td>80.0</td>\n",
              "      <td>1</td>\n",
              "    </tr>\n",
              "    <tr>\n",
              "      <th>4</th>\n",
              "      <td>0</td>\n",
              "      <td>34</td>\n",
              "      <td>1</td>\n",
              "      <td>2.0</td>\n",
              "      <td>2</td>\n",
              "      <td>2</td>\n",
              "      <td>2</td>\n",
              "      <td>2</td>\n",
              "      <td>2.0</td>\n",
              "      <td>2.0</td>\n",
              "      <td>2.0</td>\n",
              "      <td>2.0</td>\n",
              "      <td>2.0</td>\n",
              "      <td>2.0</td>\n",
              "      <td>1.0</td>\n",
              "      <td>NaN</td>\n",
              "      <td>200.0</td>\n",
              "      <td>4.0</td>\n",
              "      <td>NaN</td>\n",
              "      <td>1</td>\n",
              "    </tr>\n",
              "  </tbody>\n",
              "</table>\n",
              "</div>"
            ],
            "text/plain": [
              "   Class  AGE  SEX  STEROID  ...   SGOT  ALBUMIN  PROTIME  HISTOLOGY\n",
              "0      0   30    2      1.0  ...   18.0      4.0      NaN          1\n",
              "1      0   50    1      1.0  ...   42.0      3.5      NaN          1\n",
              "2      0   78    1      2.0  ...   32.0      4.0      NaN          1\n",
              "3      0   31    1      NaN  ...   52.0      4.0     80.0          1\n",
              "4      0   34    1      2.0  ...  200.0      4.0      NaN          1\n",
              "\n",
              "[5 rows x 20 columns]"
            ]
          },
          "metadata": {
            "tags": []
          }
        }
      ]
    },
    {
      "cell_type": "code",
      "metadata": {
        "id": "IP5wtyZ_21IP",
        "colab_type": "code",
        "colab": {
          "base_uri": "https://localhost:8080/",
          "height": 51
        },
        "outputId": "f0707032-86cf-4653-fc40-0f8a050b82da"
      },
      "source": [
        "data = dataset.sample(frac=0.95, random_state=786)\n",
        "data_unseen = dataset.drop(data.index).reset_index(drop=True)\n",
        "data.reset_index(drop=True, inplace=True)\n",
        "\n",
        "print('Data for Modeling: ' + str(data.shape))\n",
        "print('Unseen Data For Predictions: ' + str(data_unseen.shape))"
      ],
      "execution_count": 13,
      "outputs": [
        {
          "output_type": "display_data",
          "data": {
            "text/html": [
              "\n",
              "            <script src=\"/static/components/requirejs/require.js\"></script>\n",
              "            <script>\n",
              "              requirejs.config({\n",
              "                paths: {\n",
              "                  base: '/static/base',\n",
              "                  plotly: 'https://cdn.plot.ly/plotly-latest.min.js?noext',\n",
              "                },\n",
              "              });\n",
              "            </script>\n",
              "            "
            ],
            "text/plain": [
              "<IPython.core.display.HTML object>"
            ]
          },
          "metadata": {
            "tags": []
          }
        },
        {
          "output_type": "display_data",
          "data": {
            "text/html": [
              "\n",
              "            <script src=\"/static/components/requirejs/require.js\"></script>\n",
              "            <script>\n",
              "              requirejs.config({\n",
              "                paths: {\n",
              "                  base: '/static/base',\n",
              "                  plotly: 'https://cdn.plot.ly/plotly-latest.min.js?noext',\n",
              "                },\n",
              "              });\n",
              "            </script>\n",
              "            "
            ],
            "text/plain": [
              "<IPython.core.display.HTML object>"
            ]
          },
          "metadata": {
            "tags": []
          }
        },
        {
          "output_type": "stream",
          "text": [
            "Data for Modeling: (146, 20)\n",
            "Unseen Data For Predictions: (8, 20)\n"
          ],
          "name": "stdout"
        }
      ]
    },
    {
      "cell_type": "code",
      "metadata": {
        "id": "jyuZNS7R27Ne",
        "colab_type": "code",
        "colab": {
          "base_uri": "https://localhost:8080/",
          "height": 17
        },
        "outputId": "9b022a88-c837-4912-e6a6-6f0490f73479"
      },
      "source": [
        "from pycaret.classification import *"
      ],
      "execution_count": 14,
      "outputs": [
        {
          "output_type": "display_data",
          "data": {
            "text/html": [
              "\n",
              "            <script src=\"/static/components/requirejs/require.js\"></script>\n",
              "            <script>\n",
              "              requirejs.config({\n",
              "                paths: {\n",
              "                  base: '/static/base',\n",
              "                  plotly: 'https://cdn.plot.ly/plotly-latest.min.js?noext',\n",
              "                },\n",
              "              });\n",
              "            </script>\n",
              "            "
            ],
            "text/plain": [
              "<IPython.core.display.HTML object>"
            ]
          },
          "metadata": {
            "tags": []
          }
        },
        {
          "output_type": "display_data",
          "data": {
            "text/html": [
              "\n",
              "            <script src=\"/static/components/requirejs/require.js\"></script>\n",
              "            <script>\n",
              "              requirejs.config({\n",
              "                paths: {\n",
              "                  base: '/static/base',\n",
              "                  plotly: 'https://cdn.plot.ly/plotly-latest.min.js?noext',\n",
              "                },\n",
              "              });\n",
              "            </script>\n",
              "            "
            ],
            "text/plain": [
              "<IPython.core.display.HTML object>"
            ]
          },
          "metadata": {
            "tags": []
          }
        }
      ]
    },
    {
      "cell_type": "code",
      "metadata": {
        "id": "aT5ZUqVq3EjG",
        "colab_type": "code",
        "colab": {
          "base_uri": "https://localhost:8080/",
          "height": 956,
          "referenced_widgets": [
            "e0dab6dd6fe34032af7dd5bec6a5dac6",
            "63f68460b48f427a8560843e5d925257",
            "d19aac75a6e94da6b228a574f3ddb7e2",
            "24fc4c939f5a408a8003182e1815d5cc",
            "90a2aa7bfa7b4ea88dbf03520867f2e5",
            "5f066627f1264a65858ee36825c38f6f"
          ]
        },
        "outputId": "2e5d2035-cdae-4be6-beac-fa8aca509534"
      },
      "source": [
        "exp_clf101 = setup(data = data, target = 'Class', session_id=123)"
      ],
      "execution_count": 19,
      "outputs": [
        {
          "output_type": "stream",
          "text": [
            " \n",
            "Setup Succesfully Completed!\n"
          ],
          "name": "stdout"
        },
        {
          "output_type": "display_data",
          "data": {
            "text/html": [
              "<style  type=\"text/css\" >\n",
              "    #T_d776e2f2_b8eb_11ea_ae3e_0242ac1c0002row4_col1 {\n",
              "            background-color:  lightgreen;\n",
              "        }</style><table id=\"T_d776e2f2_b8eb_11ea_ae3e_0242ac1c0002\" ><thead>    <tr>        <th class=\"blank level0\" ></th>        <th class=\"col_heading level0 col0\" >Description</th>        <th class=\"col_heading level0 col1\" >Value</th>    </tr></thead><tbody>\n",
              "                <tr>\n",
              "                        <th id=\"T_d776e2f2_b8eb_11ea_ae3e_0242ac1c0002level0_row0\" class=\"row_heading level0 row0\" >0</th>\n",
              "                        <td id=\"T_d776e2f2_b8eb_11ea_ae3e_0242ac1c0002row0_col0\" class=\"data row0 col0\" >session_id</td>\n",
              "                        <td id=\"T_d776e2f2_b8eb_11ea_ae3e_0242ac1c0002row0_col1\" class=\"data row0 col1\" >123</td>\n",
              "            </tr>\n",
              "            <tr>\n",
              "                        <th id=\"T_d776e2f2_b8eb_11ea_ae3e_0242ac1c0002level0_row1\" class=\"row_heading level0 row1\" >1</th>\n",
              "                        <td id=\"T_d776e2f2_b8eb_11ea_ae3e_0242ac1c0002row1_col0\" class=\"data row1 col0\" >Target Type</td>\n",
              "                        <td id=\"T_d776e2f2_b8eb_11ea_ae3e_0242ac1c0002row1_col1\" class=\"data row1 col1\" >Binary</td>\n",
              "            </tr>\n",
              "            <tr>\n",
              "                        <th id=\"T_d776e2f2_b8eb_11ea_ae3e_0242ac1c0002level0_row2\" class=\"row_heading level0 row2\" >2</th>\n",
              "                        <td id=\"T_d776e2f2_b8eb_11ea_ae3e_0242ac1c0002row2_col0\" class=\"data row2 col0\" >Label Encoded</td>\n",
              "                        <td id=\"T_d776e2f2_b8eb_11ea_ae3e_0242ac1c0002row2_col1\" class=\"data row2 col1\" >None</td>\n",
              "            </tr>\n",
              "            <tr>\n",
              "                        <th id=\"T_d776e2f2_b8eb_11ea_ae3e_0242ac1c0002level0_row3\" class=\"row_heading level0 row3\" >3</th>\n",
              "                        <td id=\"T_d776e2f2_b8eb_11ea_ae3e_0242ac1c0002row3_col0\" class=\"data row3 col0\" >Original Data</td>\n",
              "                        <td id=\"T_d776e2f2_b8eb_11ea_ae3e_0242ac1c0002row3_col1\" class=\"data row3 col1\" >(146, 20)</td>\n",
              "            </tr>\n",
              "            <tr>\n",
              "                        <th id=\"T_d776e2f2_b8eb_11ea_ae3e_0242ac1c0002level0_row4\" class=\"row_heading level0 row4\" >4</th>\n",
              "                        <td id=\"T_d776e2f2_b8eb_11ea_ae3e_0242ac1c0002row4_col0\" class=\"data row4 col0\" >Missing Values </td>\n",
              "                        <td id=\"T_d776e2f2_b8eb_11ea_ae3e_0242ac1c0002row4_col1\" class=\"data row4 col1\" >True</td>\n",
              "            </tr>\n",
              "            <tr>\n",
              "                        <th id=\"T_d776e2f2_b8eb_11ea_ae3e_0242ac1c0002level0_row5\" class=\"row_heading level0 row5\" >5</th>\n",
              "                        <td id=\"T_d776e2f2_b8eb_11ea_ae3e_0242ac1c0002row5_col0\" class=\"data row5 col0\" >Numeric Features </td>\n",
              "                        <td id=\"T_d776e2f2_b8eb_11ea_ae3e_0242ac1c0002row5_col1\" class=\"data row5 col1\" >6</td>\n",
              "            </tr>\n",
              "            <tr>\n",
              "                        <th id=\"T_d776e2f2_b8eb_11ea_ae3e_0242ac1c0002level0_row6\" class=\"row_heading level0 row6\" >6</th>\n",
              "                        <td id=\"T_d776e2f2_b8eb_11ea_ae3e_0242ac1c0002row6_col0\" class=\"data row6 col0\" >Categorical Features </td>\n",
              "                        <td id=\"T_d776e2f2_b8eb_11ea_ae3e_0242ac1c0002row6_col1\" class=\"data row6 col1\" >13</td>\n",
              "            </tr>\n",
              "            <tr>\n",
              "                        <th id=\"T_d776e2f2_b8eb_11ea_ae3e_0242ac1c0002level0_row7\" class=\"row_heading level0 row7\" >7</th>\n",
              "                        <td id=\"T_d776e2f2_b8eb_11ea_ae3e_0242ac1c0002row7_col0\" class=\"data row7 col0\" >Ordinal Features </td>\n",
              "                        <td id=\"T_d776e2f2_b8eb_11ea_ae3e_0242ac1c0002row7_col1\" class=\"data row7 col1\" >False</td>\n",
              "            </tr>\n",
              "            <tr>\n",
              "                        <th id=\"T_d776e2f2_b8eb_11ea_ae3e_0242ac1c0002level0_row8\" class=\"row_heading level0 row8\" >8</th>\n",
              "                        <td id=\"T_d776e2f2_b8eb_11ea_ae3e_0242ac1c0002row8_col0\" class=\"data row8 col0\" >High Cardinality Features </td>\n",
              "                        <td id=\"T_d776e2f2_b8eb_11ea_ae3e_0242ac1c0002row8_col1\" class=\"data row8 col1\" >False</td>\n",
              "            </tr>\n",
              "            <tr>\n",
              "                        <th id=\"T_d776e2f2_b8eb_11ea_ae3e_0242ac1c0002level0_row9\" class=\"row_heading level0 row9\" >9</th>\n",
              "                        <td id=\"T_d776e2f2_b8eb_11ea_ae3e_0242ac1c0002row9_col0\" class=\"data row9 col0\" >High Cardinality Method </td>\n",
              "                        <td id=\"T_d776e2f2_b8eb_11ea_ae3e_0242ac1c0002row9_col1\" class=\"data row9 col1\" >None</td>\n",
              "            </tr>\n",
              "            <tr>\n",
              "                        <th id=\"T_d776e2f2_b8eb_11ea_ae3e_0242ac1c0002level0_row10\" class=\"row_heading level0 row10\" >10</th>\n",
              "                        <td id=\"T_d776e2f2_b8eb_11ea_ae3e_0242ac1c0002row10_col0\" class=\"data row10 col0\" >Sampled Data</td>\n",
              "                        <td id=\"T_d776e2f2_b8eb_11ea_ae3e_0242ac1c0002row10_col1\" class=\"data row10 col1\" >(146, 20)</td>\n",
              "            </tr>\n",
              "            <tr>\n",
              "                        <th id=\"T_d776e2f2_b8eb_11ea_ae3e_0242ac1c0002level0_row11\" class=\"row_heading level0 row11\" >11</th>\n",
              "                        <td id=\"T_d776e2f2_b8eb_11ea_ae3e_0242ac1c0002row11_col0\" class=\"data row11 col0\" >Transformed Train Set</td>\n",
              "                        <td id=\"T_d776e2f2_b8eb_11ea_ae3e_0242ac1c0002row11_col1\" class=\"data row11 col1\" >(102, 19)</td>\n",
              "            </tr>\n",
              "            <tr>\n",
              "                        <th id=\"T_d776e2f2_b8eb_11ea_ae3e_0242ac1c0002level0_row12\" class=\"row_heading level0 row12\" >12</th>\n",
              "                        <td id=\"T_d776e2f2_b8eb_11ea_ae3e_0242ac1c0002row12_col0\" class=\"data row12 col0\" >Transformed Test Set</td>\n",
              "                        <td id=\"T_d776e2f2_b8eb_11ea_ae3e_0242ac1c0002row12_col1\" class=\"data row12 col1\" >(44, 19)</td>\n",
              "            </tr>\n",
              "            <tr>\n",
              "                        <th id=\"T_d776e2f2_b8eb_11ea_ae3e_0242ac1c0002level0_row13\" class=\"row_heading level0 row13\" >13</th>\n",
              "                        <td id=\"T_d776e2f2_b8eb_11ea_ae3e_0242ac1c0002row13_col0\" class=\"data row13 col0\" >Numeric Imputer </td>\n",
              "                        <td id=\"T_d776e2f2_b8eb_11ea_ae3e_0242ac1c0002row13_col1\" class=\"data row13 col1\" >mean</td>\n",
              "            </tr>\n",
              "            <tr>\n",
              "                        <th id=\"T_d776e2f2_b8eb_11ea_ae3e_0242ac1c0002level0_row14\" class=\"row_heading level0 row14\" >14</th>\n",
              "                        <td id=\"T_d776e2f2_b8eb_11ea_ae3e_0242ac1c0002row14_col0\" class=\"data row14 col0\" >Categorical Imputer </td>\n",
              "                        <td id=\"T_d776e2f2_b8eb_11ea_ae3e_0242ac1c0002row14_col1\" class=\"data row14 col1\" >constant</td>\n",
              "            </tr>\n",
              "            <tr>\n",
              "                        <th id=\"T_d776e2f2_b8eb_11ea_ae3e_0242ac1c0002level0_row15\" class=\"row_heading level0 row15\" >15</th>\n",
              "                        <td id=\"T_d776e2f2_b8eb_11ea_ae3e_0242ac1c0002row15_col0\" class=\"data row15 col0\" >Normalize </td>\n",
              "                        <td id=\"T_d776e2f2_b8eb_11ea_ae3e_0242ac1c0002row15_col1\" class=\"data row15 col1\" >False</td>\n",
              "            </tr>\n",
              "            <tr>\n",
              "                        <th id=\"T_d776e2f2_b8eb_11ea_ae3e_0242ac1c0002level0_row16\" class=\"row_heading level0 row16\" >16</th>\n",
              "                        <td id=\"T_d776e2f2_b8eb_11ea_ae3e_0242ac1c0002row16_col0\" class=\"data row16 col0\" >Normalize Method </td>\n",
              "                        <td id=\"T_d776e2f2_b8eb_11ea_ae3e_0242ac1c0002row16_col1\" class=\"data row16 col1\" >None</td>\n",
              "            </tr>\n",
              "            <tr>\n",
              "                        <th id=\"T_d776e2f2_b8eb_11ea_ae3e_0242ac1c0002level0_row17\" class=\"row_heading level0 row17\" >17</th>\n",
              "                        <td id=\"T_d776e2f2_b8eb_11ea_ae3e_0242ac1c0002row17_col0\" class=\"data row17 col0\" >Transformation </td>\n",
              "                        <td id=\"T_d776e2f2_b8eb_11ea_ae3e_0242ac1c0002row17_col1\" class=\"data row17 col1\" >False</td>\n",
              "            </tr>\n",
              "            <tr>\n",
              "                        <th id=\"T_d776e2f2_b8eb_11ea_ae3e_0242ac1c0002level0_row18\" class=\"row_heading level0 row18\" >18</th>\n",
              "                        <td id=\"T_d776e2f2_b8eb_11ea_ae3e_0242ac1c0002row18_col0\" class=\"data row18 col0\" >Transformation Method </td>\n",
              "                        <td id=\"T_d776e2f2_b8eb_11ea_ae3e_0242ac1c0002row18_col1\" class=\"data row18 col1\" >None</td>\n",
              "            </tr>\n",
              "            <tr>\n",
              "                        <th id=\"T_d776e2f2_b8eb_11ea_ae3e_0242ac1c0002level0_row19\" class=\"row_heading level0 row19\" >19</th>\n",
              "                        <td id=\"T_d776e2f2_b8eb_11ea_ae3e_0242ac1c0002row19_col0\" class=\"data row19 col0\" >PCA </td>\n",
              "                        <td id=\"T_d776e2f2_b8eb_11ea_ae3e_0242ac1c0002row19_col1\" class=\"data row19 col1\" >False</td>\n",
              "            </tr>\n",
              "            <tr>\n",
              "                        <th id=\"T_d776e2f2_b8eb_11ea_ae3e_0242ac1c0002level0_row20\" class=\"row_heading level0 row20\" >20</th>\n",
              "                        <td id=\"T_d776e2f2_b8eb_11ea_ae3e_0242ac1c0002row20_col0\" class=\"data row20 col0\" >PCA Method </td>\n",
              "                        <td id=\"T_d776e2f2_b8eb_11ea_ae3e_0242ac1c0002row20_col1\" class=\"data row20 col1\" >None</td>\n",
              "            </tr>\n",
              "            <tr>\n",
              "                        <th id=\"T_d776e2f2_b8eb_11ea_ae3e_0242ac1c0002level0_row21\" class=\"row_heading level0 row21\" >21</th>\n",
              "                        <td id=\"T_d776e2f2_b8eb_11ea_ae3e_0242ac1c0002row21_col0\" class=\"data row21 col0\" >PCA Components </td>\n",
              "                        <td id=\"T_d776e2f2_b8eb_11ea_ae3e_0242ac1c0002row21_col1\" class=\"data row21 col1\" >None</td>\n",
              "            </tr>\n",
              "            <tr>\n",
              "                        <th id=\"T_d776e2f2_b8eb_11ea_ae3e_0242ac1c0002level0_row22\" class=\"row_heading level0 row22\" >22</th>\n",
              "                        <td id=\"T_d776e2f2_b8eb_11ea_ae3e_0242ac1c0002row22_col0\" class=\"data row22 col0\" >Ignore Low Variance </td>\n",
              "                        <td id=\"T_d776e2f2_b8eb_11ea_ae3e_0242ac1c0002row22_col1\" class=\"data row22 col1\" >False</td>\n",
              "            </tr>\n",
              "            <tr>\n",
              "                        <th id=\"T_d776e2f2_b8eb_11ea_ae3e_0242ac1c0002level0_row23\" class=\"row_heading level0 row23\" >23</th>\n",
              "                        <td id=\"T_d776e2f2_b8eb_11ea_ae3e_0242ac1c0002row23_col0\" class=\"data row23 col0\" >Combine Rare Levels </td>\n",
              "                        <td id=\"T_d776e2f2_b8eb_11ea_ae3e_0242ac1c0002row23_col1\" class=\"data row23 col1\" >False</td>\n",
              "            </tr>\n",
              "            <tr>\n",
              "                        <th id=\"T_d776e2f2_b8eb_11ea_ae3e_0242ac1c0002level0_row24\" class=\"row_heading level0 row24\" >24</th>\n",
              "                        <td id=\"T_d776e2f2_b8eb_11ea_ae3e_0242ac1c0002row24_col0\" class=\"data row24 col0\" >Rare Level Threshold </td>\n",
              "                        <td id=\"T_d776e2f2_b8eb_11ea_ae3e_0242ac1c0002row24_col1\" class=\"data row24 col1\" >None</td>\n",
              "            </tr>\n",
              "            <tr>\n",
              "                        <th id=\"T_d776e2f2_b8eb_11ea_ae3e_0242ac1c0002level0_row25\" class=\"row_heading level0 row25\" >25</th>\n",
              "                        <td id=\"T_d776e2f2_b8eb_11ea_ae3e_0242ac1c0002row25_col0\" class=\"data row25 col0\" >Numeric Binning </td>\n",
              "                        <td id=\"T_d776e2f2_b8eb_11ea_ae3e_0242ac1c0002row25_col1\" class=\"data row25 col1\" >False</td>\n",
              "            </tr>\n",
              "            <tr>\n",
              "                        <th id=\"T_d776e2f2_b8eb_11ea_ae3e_0242ac1c0002level0_row26\" class=\"row_heading level0 row26\" >26</th>\n",
              "                        <td id=\"T_d776e2f2_b8eb_11ea_ae3e_0242ac1c0002row26_col0\" class=\"data row26 col0\" >Remove Outliers </td>\n",
              "                        <td id=\"T_d776e2f2_b8eb_11ea_ae3e_0242ac1c0002row26_col1\" class=\"data row26 col1\" >False</td>\n",
              "            </tr>\n",
              "            <tr>\n",
              "                        <th id=\"T_d776e2f2_b8eb_11ea_ae3e_0242ac1c0002level0_row27\" class=\"row_heading level0 row27\" >27</th>\n",
              "                        <td id=\"T_d776e2f2_b8eb_11ea_ae3e_0242ac1c0002row27_col0\" class=\"data row27 col0\" >Outliers Threshold </td>\n",
              "                        <td id=\"T_d776e2f2_b8eb_11ea_ae3e_0242ac1c0002row27_col1\" class=\"data row27 col1\" >None</td>\n",
              "            </tr>\n",
              "            <tr>\n",
              "                        <th id=\"T_d776e2f2_b8eb_11ea_ae3e_0242ac1c0002level0_row28\" class=\"row_heading level0 row28\" >28</th>\n",
              "                        <td id=\"T_d776e2f2_b8eb_11ea_ae3e_0242ac1c0002row28_col0\" class=\"data row28 col0\" >Remove Multicollinearity </td>\n",
              "                        <td id=\"T_d776e2f2_b8eb_11ea_ae3e_0242ac1c0002row28_col1\" class=\"data row28 col1\" >False</td>\n",
              "            </tr>\n",
              "            <tr>\n",
              "                        <th id=\"T_d776e2f2_b8eb_11ea_ae3e_0242ac1c0002level0_row29\" class=\"row_heading level0 row29\" >29</th>\n",
              "                        <td id=\"T_d776e2f2_b8eb_11ea_ae3e_0242ac1c0002row29_col0\" class=\"data row29 col0\" >Multicollinearity Threshold </td>\n",
              "                        <td id=\"T_d776e2f2_b8eb_11ea_ae3e_0242ac1c0002row29_col1\" class=\"data row29 col1\" >None</td>\n",
              "            </tr>\n",
              "            <tr>\n",
              "                        <th id=\"T_d776e2f2_b8eb_11ea_ae3e_0242ac1c0002level0_row30\" class=\"row_heading level0 row30\" >30</th>\n",
              "                        <td id=\"T_d776e2f2_b8eb_11ea_ae3e_0242ac1c0002row30_col0\" class=\"data row30 col0\" >Clustering </td>\n",
              "                        <td id=\"T_d776e2f2_b8eb_11ea_ae3e_0242ac1c0002row30_col1\" class=\"data row30 col1\" >False</td>\n",
              "            </tr>\n",
              "            <tr>\n",
              "                        <th id=\"T_d776e2f2_b8eb_11ea_ae3e_0242ac1c0002level0_row31\" class=\"row_heading level0 row31\" >31</th>\n",
              "                        <td id=\"T_d776e2f2_b8eb_11ea_ae3e_0242ac1c0002row31_col0\" class=\"data row31 col0\" >Clustering Iteration </td>\n",
              "                        <td id=\"T_d776e2f2_b8eb_11ea_ae3e_0242ac1c0002row31_col1\" class=\"data row31 col1\" >None</td>\n",
              "            </tr>\n",
              "            <tr>\n",
              "                        <th id=\"T_d776e2f2_b8eb_11ea_ae3e_0242ac1c0002level0_row32\" class=\"row_heading level0 row32\" >32</th>\n",
              "                        <td id=\"T_d776e2f2_b8eb_11ea_ae3e_0242ac1c0002row32_col0\" class=\"data row32 col0\" >Polynomial Features </td>\n",
              "                        <td id=\"T_d776e2f2_b8eb_11ea_ae3e_0242ac1c0002row32_col1\" class=\"data row32 col1\" >False</td>\n",
              "            </tr>\n",
              "            <tr>\n",
              "                        <th id=\"T_d776e2f2_b8eb_11ea_ae3e_0242ac1c0002level0_row33\" class=\"row_heading level0 row33\" >33</th>\n",
              "                        <td id=\"T_d776e2f2_b8eb_11ea_ae3e_0242ac1c0002row33_col0\" class=\"data row33 col0\" >Polynomial Degree </td>\n",
              "                        <td id=\"T_d776e2f2_b8eb_11ea_ae3e_0242ac1c0002row33_col1\" class=\"data row33 col1\" >None</td>\n",
              "            </tr>\n",
              "            <tr>\n",
              "                        <th id=\"T_d776e2f2_b8eb_11ea_ae3e_0242ac1c0002level0_row34\" class=\"row_heading level0 row34\" >34</th>\n",
              "                        <td id=\"T_d776e2f2_b8eb_11ea_ae3e_0242ac1c0002row34_col0\" class=\"data row34 col0\" >Trignometry Features </td>\n",
              "                        <td id=\"T_d776e2f2_b8eb_11ea_ae3e_0242ac1c0002row34_col1\" class=\"data row34 col1\" >False</td>\n",
              "            </tr>\n",
              "            <tr>\n",
              "                        <th id=\"T_d776e2f2_b8eb_11ea_ae3e_0242ac1c0002level0_row35\" class=\"row_heading level0 row35\" >35</th>\n",
              "                        <td id=\"T_d776e2f2_b8eb_11ea_ae3e_0242ac1c0002row35_col0\" class=\"data row35 col0\" >Polynomial Threshold </td>\n",
              "                        <td id=\"T_d776e2f2_b8eb_11ea_ae3e_0242ac1c0002row35_col1\" class=\"data row35 col1\" >None</td>\n",
              "            </tr>\n",
              "            <tr>\n",
              "                        <th id=\"T_d776e2f2_b8eb_11ea_ae3e_0242ac1c0002level0_row36\" class=\"row_heading level0 row36\" >36</th>\n",
              "                        <td id=\"T_d776e2f2_b8eb_11ea_ae3e_0242ac1c0002row36_col0\" class=\"data row36 col0\" >Group Features </td>\n",
              "                        <td id=\"T_d776e2f2_b8eb_11ea_ae3e_0242ac1c0002row36_col1\" class=\"data row36 col1\" >False</td>\n",
              "            </tr>\n",
              "            <tr>\n",
              "                        <th id=\"T_d776e2f2_b8eb_11ea_ae3e_0242ac1c0002level0_row37\" class=\"row_heading level0 row37\" >37</th>\n",
              "                        <td id=\"T_d776e2f2_b8eb_11ea_ae3e_0242ac1c0002row37_col0\" class=\"data row37 col0\" >Feature Selection </td>\n",
              "                        <td id=\"T_d776e2f2_b8eb_11ea_ae3e_0242ac1c0002row37_col1\" class=\"data row37 col1\" >False</td>\n",
              "            </tr>\n",
              "            <tr>\n",
              "                        <th id=\"T_d776e2f2_b8eb_11ea_ae3e_0242ac1c0002level0_row38\" class=\"row_heading level0 row38\" >38</th>\n",
              "                        <td id=\"T_d776e2f2_b8eb_11ea_ae3e_0242ac1c0002row38_col0\" class=\"data row38 col0\" >Features Selection Threshold </td>\n",
              "                        <td id=\"T_d776e2f2_b8eb_11ea_ae3e_0242ac1c0002row38_col1\" class=\"data row38 col1\" >None</td>\n",
              "            </tr>\n",
              "            <tr>\n",
              "                        <th id=\"T_d776e2f2_b8eb_11ea_ae3e_0242ac1c0002level0_row39\" class=\"row_heading level0 row39\" >39</th>\n",
              "                        <td id=\"T_d776e2f2_b8eb_11ea_ae3e_0242ac1c0002row39_col0\" class=\"data row39 col0\" >Feature Interaction </td>\n",
              "                        <td id=\"T_d776e2f2_b8eb_11ea_ae3e_0242ac1c0002row39_col1\" class=\"data row39 col1\" >False</td>\n",
              "            </tr>\n",
              "            <tr>\n",
              "                        <th id=\"T_d776e2f2_b8eb_11ea_ae3e_0242ac1c0002level0_row40\" class=\"row_heading level0 row40\" >40</th>\n",
              "                        <td id=\"T_d776e2f2_b8eb_11ea_ae3e_0242ac1c0002row40_col0\" class=\"data row40 col0\" >Feature Ratio </td>\n",
              "                        <td id=\"T_d776e2f2_b8eb_11ea_ae3e_0242ac1c0002row40_col1\" class=\"data row40 col1\" >False</td>\n",
              "            </tr>\n",
              "            <tr>\n",
              "                        <th id=\"T_d776e2f2_b8eb_11ea_ae3e_0242ac1c0002level0_row41\" class=\"row_heading level0 row41\" >41</th>\n",
              "                        <td id=\"T_d776e2f2_b8eb_11ea_ae3e_0242ac1c0002row41_col0\" class=\"data row41 col0\" >Interaction Threshold </td>\n",
              "                        <td id=\"T_d776e2f2_b8eb_11ea_ae3e_0242ac1c0002row41_col1\" class=\"data row41 col1\" >None</td>\n",
              "            </tr>\n",
              "    </tbody></table>"
            ],
            "text/plain": [
              "<pandas.io.formats.style.Styler at 0x7f2bec9c51d0>"
            ]
          },
          "metadata": {
            "tags": []
          }
        }
      ]
    },
    {
      "cell_type": "code",
      "metadata": {
        "id": "7oMfLzii4v14",
        "colab_type": "code",
        "colab": {
          "base_uri": "https://localhost:8080/",
          "height": 355,
          "referenced_widgets": [
            "67154f8f0a0540e9966181916e4e44ce",
            "5a31c79bfb664368b49ad75e54aa9bb3",
            "f8d96209aadc4e8f8478cd281c383ee2"
          ]
        },
        "outputId": "7f3766ed-86ae-4d0d-b1db-bc2b1ddb6575"
      },
      "source": [
        "compare_models()"
      ],
      "execution_count": 21,
      "outputs": [
        {
          "output_type": "execute_result",
          "data": {
            "text/html": [
              "<style  type=\"text/css\" >\n",
              "    #T_5dd95da2_b8ec_11ea_ae3e_0242ac1c0002 th {\n",
              "          text-align: left;\n",
              "    }    #T_5dd95da2_b8ec_11ea_ae3e_0242ac1c0002row0_col0 {\n",
              "            text-align:  left;\n",
              "        }    #T_5dd95da2_b8ec_11ea_ae3e_0242ac1c0002row0_col1 {\n",
              "            background-color:  yellow;\n",
              "            text-align:  left;\n",
              "        }    #T_5dd95da2_b8ec_11ea_ae3e_0242ac1c0002row0_col2 {\n",
              "            : ;\n",
              "            text-align:  left;\n",
              "        }    #T_5dd95da2_b8ec_11ea_ae3e_0242ac1c0002row0_col3 {\n",
              "            : ;\n",
              "            text-align:  left;\n",
              "        }    #T_5dd95da2_b8ec_11ea_ae3e_0242ac1c0002row0_col4 {\n",
              "            : ;\n",
              "            text-align:  left;\n",
              "        }    #T_5dd95da2_b8ec_11ea_ae3e_0242ac1c0002row0_col5 {\n",
              "            : ;\n",
              "            text-align:  left;\n",
              "        }    #T_5dd95da2_b8ec_11ea_ae3e_0242ac1c0002row0_col6 {\n",
              "            : ;\n",
              "            text-align:  left;\n",
              "        }    #T_5dd95da2_b8ec_11ea_ae3e_0242ac1c0002row1_col0 {\n",
              "            text-align:  left;\n",
              "        }    #T_5dd95da2_b8ec_11ea_ae3e_0242ac1c0002row1_col1 {\n",
              "            : ;\n",
              "            text-align:  left;\n",
              "        }    #T_5dd95da2_b8ec_11ea_ae3e_0242ac1c0002row1_col2 {\n",
              "            background-color:  yellow;\n",
              "            text-align:  left;\n",
              "        }    #T_5dd95da2_b8ec_11ea_ae3e_0242ac1c0002row1_col3 {\n",
              "            : ;\n",
              "            text-align:  left;\n",
              "        }    #T_5dd95da2_b8ec_11ea_ae3e_0242ac1c0002row1_col4 {\n",
              "            : ;\n",
              "            text-align:  left;\n",
              "        }    #T_5dd95da2_b8ec_11ea_ae3e_0242ac1c0002row1_col5 {\n",
              "            : ;\n",
              "            text-align:  left;\n",
              "        }    #T_5dd95da2_b8ec_11ea_ae3e_0242ac1c0002row1_col6 {\n",
              "            : ;\n",
              "            text-align:  left;\n",
              "        }    #T_5dd95da2_b8ec_11ea_ae3e_0242ac1c0002row2_col0 {\n",
              "            text-align:  left;\n",
              "        }    #T_5dd95da2_b8ec_11ea_ae3e_0242ac1c0002row2_col1 {\n",
              "            : ;\n",
              "            text-align:  left;\n",
              "        }    #T_5dd95da2_b8ec_11ea_ae3e_0242ac1c0002row2_col2 {\n",
              "            : ;\n",
              "            text-align:  left;\n",
              "        }    #T_5dd95da2_b8ec_11ea_ae3e_0242ac1c0002row2_col3 {\n",
              "            : ;\n",
              "            text-align:  left;\n",
              "        }    #T_5dd95da2_b8ec_11ea_ae3e_0242ac1c0002row2_col4 {\n",
              "            : ;\n",
              "            text-align:  left;\n",
              "        }    #T_5dd95da2_b8ec_11ea_ae3e_0242ac1c0002row2_col5 {\n",
              "            : ;\n",
              "            text-align:  left;\n",
              "        }    #T_5dd95da2_b8ec_11ea_ae3e_0242ac1c0002row2_col6 {\n",
              "            : ;\n",
              "            text-align:  left;\n",
              "        }    #T_5dd95da2_b8ec_11ea_ae3e_0242ac1c0002row3_col0 {\n",
              "            text-align:  left;\n",
              "        }    #T_5dd95da2_b8ec_11ea_ae3e_0242ac1c0002row3_col1 {\n",
              "            : ;\n",
              "            text-align:  left;\n",
              "        }    #T_5dd95da2_b8ec_11ea_ae3e_0242ac1c0002row3_col2 {\n",
              "            : ;\n",
              "            text-align:  left;\n",
              "        }    #T_5dd95da2_b8ec_11ea_ae3e_0242ac1c0002row3_col3 {\n",
              "            : ;\n",
              "            text-align:  left;\n",
              "        }    #T_5dd95da2_b8ec_11ea_ae3e_0242ac1c0002row3_col4 {\n",
              "            : ;\n",
              "            text-align:  left;\n",
              "        }    #T_5dd95da2_b8ec_11ea_ae3e_0242ac1c0002row3_col5 {\n",
              "            : ;\n",
              "            text-align:  left;\n",
              "        }    #T_5dd95da2_b8ec_11ea_ae3e_0242ac1c0002row3_col6 {\n",
              "            : ;\n",
              "            text-align:  left;\n",
              "        }    #T_5dd95da2_b8ec_11ea_ae3e_0242ac1c0002row4_col0 {\n",
              "            text-align:  left;\n",
              "        }    #T_5dd95da2_b8ec_11ea_ae3e_0242ac1c0002row4_col1 {\n",
              "            : ;\n",
              "            text-align:  left;\n",
              "        }    #T_5dd95da2_b8ec_11ea_ae3e_0242ac1c0002row4_col2 {\n",
              "            : ;\n",
              "            text-align:  left;\n",
              "        }    #T_5dd95da2_b8ec_11ea_ae3e_0242ac1c0002row4_col3 {\n",
              "            : ;\n",
              "            text-align:  left;\n",
              "        }    #T_5dd95da2_b8ec_11ea_ae3e_0242ac1c0002row4_col4 {\n",
              "            : ;\n",
              "            text-align:  left;\n",
              "        }    #T_5dd95da2_b8ec_11ea_ae3e_0242ac1c0002row4_col5 {\n",
              "            : ;\n",
              "            text-align:  left;\n",
              "        }    #T_5dd95da2_b8ec_11ea_ae3e_0242ac1c0002row4_col6 {\n",
              "            : ;\n",
              "            text-align:  left;\n",
              "        }    #T_5dd95da2_b8ec_11ea_ae3e_0242ac1c0002row5_col0 {\n",
              "            text-align:  left;\n",
              "        }    #T_5dd95da2_b8ec_11ea_ae3e_0242ac1c0002row5_col1 {\n",
              "            : ;\n",
              "            text-align:  left;\n",
              "        }    #T_5dd95da2_b8ec_11ea_ae3e_0242ac1c0002row5_col2 {\n",
              "            : ;\n",
              "            text-align:  left;\n",
              "        }    #T_5dd95da2_b8ec_11ea_ae3e_0242ac1c0002row5_col3 {\n",
              "            : ;\n",
              "            text-align:  left;\n",
              "        }    #T_5dd95da2_b8ec_11ea_ae3e_0242ac1c0002row5_col4 {\n",
              "            background-color:  yellow;\n",
              "            text-align:  left;\n",
              "        }    #T_5dd95da2_b8ec_11ea_ae3e_0242ac1c0002row5_col5 {\n",
              "            background-color:  yellow;\n",
              "            text-align:  left;\n",
              "        }    #T_5dd95da2_b8ec_11ea_ae3e_0242ac1c0002row5_col6 {\n",
              "            background-color:  yellow;\n",
              "            text-align:  left;\n",
              "        }    #T_5dd95da2_b8ec_11ea_ae3e_0242ac1c0002row6_col0 {\n",
              "            text-align:  left;\n",
              "        }    #T_5dd95da2_b8ec_11ea_ae3e_0242ac1c0002row6_col1 {\n",
              "            : ;\n",
              "            text-align:  left;\n",
              "        }    #T_5dd95da2_b8ec_11ea_ae3e_0242ac1c0002row6_col2 {\n",
              "            : ;\n",
              "            text-align:  left;\n",
              "        }    #T_5dd95da2_b8ec_11ea_ae3e_0242ac1c0002row6_col3 {\n",
              "            : ;\n",
              "            text-align:  left;\n",
              "        }    #T_5dd95da2_b8ec_11ea_ae3e_0242ac1c0002row6_col4 {\n",
              "            : ;\n",
              "            text-align:  left;\n",
              "        }    #T_5dd95da2_b8ec_11ea_ae3e_0242ac1c0002row6_col5 {\n",
              "            : ;\n",
              "            text-align:  left;\n",
              "        }    #T_5dd95da2_b8ec_11ea_ae3e_0242ac1c0002row6_col6 {\n",
              "            : ;\n",
              "            text-align:  left;\n",
              "        }    #T_5dd95da2_b8ec_11ea_ae3e_0242ac1c0002row7_col0 {\n",
              "            text-align:  left;\n",
              "        }    #T_5dd95da2_b8ec_11ea_ae3e_0242ac1c0002row7_col1 {\n",
              "            : ;\n",
              "            text-align:  left;\n",
              "        }    #T_5dd95da2_b8ec_11ea_ae3e_0242ac1c0002row7_col2 {\n",
              "            : ;\n",
              "            text-align:  left;\n",
              "        }    #T_5dd95da2_b8ec_11ea_ae3e_0242ac1c0002row7_col3 {\n",
              "            : ;\n",
              "            text-align:  left;\n",
              "        }    #T_5dd95da2_b8ec_11ea_ae3e_0242ac1c0002row7_col4 {\n",
              "            : ;\n",
              "            text-align:  left;\n",
              "        }    #T_5dd95da2_b8ec_11ea_ae3e_0242ac1c0002row7_col5 {\n",
              "            : ;\n",
              "            text-align:  left;\n",
              "        }    #T_5dd95da2_b8ec_11ea_ae3e_0242ac1c0002row7_col6 {\n",
              "            : ;\n",
              "            text-align:  left;\n",
              "        }    #T_5dd95da2_b8ec_11ea_ae3e_0242ac1c0002row8_col0 {\n",
              "            text-align:  left;\n",
              "        }    #T_5dd95da2_b8ec_11ea_ae3e_0242ac1c0002row8_col1 {\n",
              "            : ;\n",
              "            text-align:  left;\n",
              "        }    #T_5dd95da2_b8ec_11ea_ae3e_0242ac1c0002row8_col2 {\n",
              "            : ;\n",
              "            text-align:  left;\n",
              "        }    #T_5dd95da2_b8ec_11ea_ae3e_0242ac1c0002row8_col3 {\n",
              "            : ;\n",
              "            text-align:  left;\n",
              "        }    #T_5dd95da2_b8ec_11ea_ae3e_0242ac1c0002row8_col4 {\n",
              "            : ;\n",
              "            text-align:  left;\n",
              "        }    #T_5dd95da2_b8ec_11ea_ae3e_0242ac1c0002row8_col5 {\n",
              "            : ;\n",
              "            text-align:  left;\n",
              "        }    #T_5dd95da2_b8ec_11ea_ae3e_0242ac1c0002row8_col6 {\n",
              "            : ;\n",
              "            text-align:  left;\n",
              "        }    #T_5dd95da2_b8ec_11ea_ae3e_0242ac1c0002row9_col0 {\n",
              "            text-align:  left;\n",
              "        }    #T_5dd95da2_b8ec_11ea_ae3e_0242ac1c0002row9_col1 {\n",
              "            : ;\n",
              "            text-align:  left;\n",
              "        }    #T_5dd95da2_b8ec_11ea_ae3e_0242ac1c0002row9_col2 {\n",
              "            : ;\n",
              "            text-align:  left;\n",
              "        }    #T_5dd95da2_b8ec_11ea_ae3e_0242ac1c0002row9_col3 {\n",
              "            : ;\n",
              "            text-align:  left;\n",
              "        }    #T_5dd95da2_b8ec_11ea_ae3e_0242ac1c0002row9_col4 {\n",
              "            : ;\n",
              "            text-align:  left;\n",
              "        }    #T_5dd95da2_b8ec_11ea_ae3e_0242ac1c0002row9_col5 {\n",
              "            : ;\n",
              "            text-align:  left;\n",
              "        }    #T_5dd95da2_b8ec_11ea_ae3e_0242ac1c0002row9_col6 {\n",
              "            : ;\n",
              "            text-align:  left;\n",
              "        }    #T_5dd95da2_b8ec_11ea_ae3e_0242ac1c0002row10_col0 {\n",
              "            text-align:  left;\n",
              "        }    #T_5dd95da2_b8ec_11ea_ae3e_0242ac1c0002row10_col1 {\n",
              "            : ;\n",
              "            text-align:  left;\n",
              "        }    #T_5dd95da2_b8ec_11ea_ae3e_0242ac1c0002row10_col2 {\n",
              "            : ;\n",
              "            text-align:  left;\n",
              "        }    #T_5dd95da2_b8ec_11ea_ae3e_0242ac1c0002row10_col3 {\n",
              "            : ;\n",
              "            text-align:  left;\n",
              "        }    #T_5dd95da2_b8ec_11ea_ae3e_0242ac1c0002row10_col4 {\n",
              "            : ;\n",
              "            text-align:  left;\n",
              "        }    #T_5dd95da2_b8ec_11ea_ae3e_0242ac1c0002row10_col5 {\n",
              "            : ;\n",
              "            text-align:  left;\n",
              "        }    #T_5dd95da2_b8ec_11ea_ae3e_0242ac1c0002row10_col6 {\n",
              "            : ;\n",
              "            text-align:  left;\n",
              "        }    #T_5dd95da2_b8ec_11ea_ae3e_0242ac1c0002row11_col0 {\n",
              "            text-align:  left;\n",
              "        }    #T_5dd95da2_b8ec_11ea_ae3e_0242ac1c0002row11_col1 {\n",
              "            : ;\n",
              "            text-align:  left;\n",
              "        }    #T_5dd95da2_b8ec_11ea_ae3e_0242ac1c0002row11_col2 {\n",
              "            : ;\n",
              "            text-align:  left;\n",
              "        }    #T_5dd95da2_b8ec_11ea_ae3e_0242ac1c0002row11_col3 {\n",
              "            : ;\n",
              "            text-align:  left;\n",
              "        }    #T_5dd95da2_b8ec_11ea_ae3e_0242ac1c0002row11_col4 {\n",
              "            : ;\n",
              "            text-align:  left;\n",
              "        }    #T_5dd95da2_b8ec_11ea_ae3e_0242ac1c0002row11_col5 {\n",
              "            : ;\n",
              "            text-align:  left;\n",
              "        }    #T_5dd95da2_b8ec_11ea_ae3e_0242ac1c0002row11_col6 {\n",
              "            : ;\n",
              "            text-align:  left;\n",
              "        }    #T_5dd95da2_b8ec_11ea_ae3e_0242ac1c0002row12_col0 {\n",
              "            text-align:  left;\n",
              "        }    #T_5dd95da2_b8ec_11ea_ae3e_0242ac1c0002row12_col1 {\n",
              "            : ;\n",
              "            text-align:  left;\n",
              "        }    #T_5dd95da2_b8ec_11ea_ae3e_0242ac1c0002row12_col2 {\n",
              "            : ;\n",
              "            text-align:  left;\n",
              "        }    #T_5dd95da2_b8ec_11ea_ae3e_0242ac1c0002row12_col3 {\n",
              "            : ;\n",
              "            text-align:  left;\n",
              "        }    #T_5dd95da2_b8ec_11ea_ae3e_0242ac1c0002row12_col4 {\n",
              "            : ;\n",
              "            text-align:  left;\n",
              "        }    #T_5dd95da2_b8ec_11ea_ae3e_0242ac1c0002row12_col5 {\n",
              "            : ;\n",
              "            text-align:  left;\n",
              "        }    #T_5dd95da2_b8ec_11ea_ae3e_0242ac1c0002row12_col6 {\n",
              "            : ;\n",
              "            text-align:  left;\n",
              "        }    #T_5dd95da2_b8ec_11ea_ae3e_0242ac1c0002row13_col0 {\n",
              "            text-align:  left;\n",
              "        }    #T_5dd95da2_b8ec_11ea_ae3e_0242ac1c0002row13_col1 {\n",
              "            : ;\n",
              "            text-align:  left;\n",
              "        }    #T_5dd95da2_b8ec_11ea_ae3e_0242ac1c0002row13_col2 {\n",
              "            : ;\n",
              "            text-align:  left;\n",
              "        }    #T_5dd95da2_b8ec_11ea_ae3e_0242ac1c0002row13_col3 {\n",
              "            background-color:  yellow;\n",
              "            text-align:  left;\n",
              "        }    #T_5dd95da2_b8ec_11ea_ae3e_0242ac1c0002row13_col4 {\n",
              "            : ;\n",
              "            text-align:  left;\n",
              "        }    #T_5dd95da2_b8ec_11ea_ae3e_0242ac1c0002row13_col5 {\n",
              "            : ;\n",
              "            text-align:  left;\n",
              "        }    #T_5dd95da2_b8ec_11ea_ae3e_0242ac1c0002row13_col6 {\n",
              "            : ;\n",
              "            text-align:  left;\n",
              "        }    #T_5dd95da2_b8ec_11ea_ae3e_0242ac1c0002row14_col0 {\n",
              "            text-align:  left;\n",
              "        }    #T_5dd95da2_b8ec_11ea_ae3e_0242ac1c0002row14_col1 {\n",
              "            : ;\n",
              "            text-align:  left;\n",
              "        }    #T_5dd95da2_b8ec_11ea_ae3e_0242ac1c0002row14_col2 {\n",
              "            : ;\n",
              "            text-align:  left;\n",
              "        }    #T_5dd95da2_b8ec_11ea_ae3e_0242ac1c0002row14_col3 {\n",
              "            : ;\n",
              "            text-align:  left;\n",
              "        }    #T_5dd95da2_b8ec_11ea_ae3e_0242ac1c0002row14_col4 {\n",
              "            : ;\n",
              "            text-align:  left;\n",
              "        }    #T_5dd95da2_b8ec_11ea_ae3e_0242ac1c0002row14_col5 {\n",
              "            : ;\n",
              "            text-align:  left;\n",
              "        }    #T_5dd95da2_b8ec_11ea_ae3e_0242ac1c0002row14_col6 {\n",
              "            : ;\n",
              "            text-align:  left;\n",
              "        }</style><table id=\"T_5dd95da2_b8ec_11ea_ae3e_0242ac1c0002\" ><thead>    <tr>        <th class=\"blank level0\" ></th>        <th class=\"col_heading level0 col0\" >Model</th>        <th class=\"col_heading level0 col1\" >Accuracy</th>        <th class=\"col_heading level0 col2\" >AUC</th>        <th class=\"col_heading level0 col3\" >Recall</th>        <th class=\"col_heading level0 col4\" >Prec.</th>        <th class=\"col_heading level0 col5\" >F1</th>        <th class=\"col_heading level0 col6\" >Kappa</th>    </tr></thead><tbody>\n",
              "                <tr>\n",
              "                        <th id=\"T_5dd95da2_b8ec_11ea_ae3e_0242ac1c0002level0_row0\" class=\"row_heading level0 row0\" >0</th>\n",
              "                        <td id=\"T_5dd95da2_b8ec_11ea_ae3e_0242ac1c0002row0_col0\" class=\"data row0 col0\" >Logistic Regression</td>\n",
              "                        <td id=\"T_5dd95da2_b8ec_11ea_ae3e_0242ac1c0002row0_col1\" class=\"data row0 col1\" >0.841800</td>\n",
              "                        <td id=\"T_5dd95da2_b8ec_11ea_ae3e_0242ac1c0002row0_col2\" class=\"data row0 col2\" >0.745100</td>\n",
              "                        <td id=\"T_5dd95da2_b8ec_11ea_ae3e_0242ac1c0002row0_col3\" class=\"data row0 col3\" >0.300000</td>\n",
              "                        <td id=\"T_5dd95da2_b8ec_11ea_ae3e_0242ac1c0002row0_col4\" class=\"data row0 col4\" >0.550000</td>\n",
              "                        <td id=\"T_5dd95da2_b8ec_11ea_ae3e_0242ac1c0002row0_col5\" class=\"data row0 col5\" >0.383300</td>\n",
              "                        <td id=\"T_5dd95da2_b8ec_11ea_ae3e_0242ac1c0002row0_col6\" class=\"data row0 col6\" >0.319800</td>\n",
              "            </tr>\n",
              "            <tr>\n",
              "                        <th id=\"T_5dd95da2_b8ec_11ea_ae3e_0242ac1c0002level0_row1\" class=\"row_heading level0 row1\" >1</th>\n",
              "                        <td id=\"T_5dd95da2_b8ec_11ea_ae3e_0242ac1c0002row1_col0\" class=\"data row1 col0\" >Extra Trees Classifier</td>\n",
              "                        <td id=\"T_5dd95da2_b8ec_11ea_ae3e_0242ac1c0002row1_col1\" class=\"data row1 col1\" >0.833600</td>\n",
              "                        <td id=\"T_5dd95da2_b8ec_11ea_ae3e_0242ac1c0002row1_col2\" class=\"data row1 col2\" >0.837200</td>\n",
              "                        <td id=\"T_5dd95da2_b8ec_11ea_ae3e_0242ac1c0002row1_col3\" class=\"data row1 col3\" >0.300000</td>\n",
              "                        <td id=\"T_5dd95da2_b8ec_11ea_ae3e_0242ac1c0002row1_col4\" class=\"data row1 col4\" >0.450000</td>\n",
              "                        <td id=\"T_5dd95da2_b8ec_11ea_ae3e_0242ac1c0002row1_col5\" class=\"data row1 col5\" >0.350000</td>\n",
              "                        <td id=\"T_5dd95da2_b8ec_11ea_ae3e_0242ac1c0002row1_col6\" class=\"data row1 col6\" >0.286000</td>\n",
              "            </tr>\n",
              "            <tr>\n",
              "                        <th id=\"T_5dd95da2_b8ec_11ea_ae3e_0242ac1c0002level0_row2\" class=\"row_heading level0 row2\" >2</th>\n",
              "                        <td id=\"T_5dd95da2_b8ec_11ea_ae3e_0242ac1c0002row2_col0\" class=\"data row2 col0\" >Random Forest Classifier</td>\n",
              "                        <td id=\"T_5dd95da2_b8ec_11ea_ae3e_0242ac1c0002row2_col1\" class=\"data row2 col1\" >0.823600</td>\n",
              "                        <td id=\"T_5dd95da2_b8ec_11ea_ae3e_0242ac1c0002row2_col2\" class=\"data row2 col2\" >0.728100</td>\n",
              "                        <td id=\"T_5dd95da2_b8ec_11ea_ae3e_0242ac1c0002row2_col3\" class=\"data row2 col3\" >0.150000</td>\n",
              "                        <td id=\"T_5dd95da2_b8ec_11ea_ae3e_0242ac1c0002row2_col4\" class=\"data row2 col4\" >0.250000</td>\n",
              "                        <td id=\"T_5dd95da2_b8ec_11ea_ae3e_0242ac1c0002row2_col5\" class=\"data row2 col5\" >0.183300</td>\n",
              "                        <td id=\"T_5dd95da2_b8ec_11ea_ae3e_0242ac1c0002row2_col6\" class=\"data row2 col6\" >0.149500</td>\n",
              "            </tr>\n",
              "            <tr>\n",
              "                        <th id=\"T_5dd95da2_b8ec_11ea_ae3e_0242ac1c0002level0_row3\" class=\"row_heading level0 row3\" >3</th>\n",
              "                        <td id=\"T_5dd95da2_b8ec_11ea_ae3e_0242ac1c0002row3_col0\" class=\"data row3 col0\" >Extreme Gradient Boosting</td>\n",
              "                        <td id=\"T_5dd95da2_b8ec_11ea_ae3e_0242ac1c0002row3_col1\" class=\"data row3 col1\" >0.822700</td>\n",
              "                        <td id=\"T_5dd95da2_b8ec_11ea_ae3e_0242ac1c0002row3_col2\" class=\"data row3 col2\" >0.742400</td>\n",
              "                        <td id=\"T_5dd95da2_b8ec_11ea_ae3e_0242ac1c0002row3_col3\" class=\"data row3 col3\" >0.400000</td>\n",
              "                        <td id=\"T_5dd95da2_b8ec_11ea_ae3e_0242ac1c0002row3_col4\" class=\"data row3 col4\" >0.550000</td>\n",
              "                        <td id=\"T_5dd95da2_b8ec_11ea_ae3e_0242ac1c0002row3_col5\" class=\"data row3 col5\" >0.450000</td>\n",
              "                        <td id=\"T_5dd95da2_b8ec_11ea_ae3e_0242ac1c0002row3_col6\" class=\"data row3 col6\" >0.358700</td>\n",
              "            </tr>\n",
              "            <tr>\n",
              "                        <th id=\"T_5dd95da2_b8ec_11ea_ae3e_0242ac1c0002level0_row4\" class=\"row_heading level0 row4\" >4</th>\n",
              "                        <td id=\"T_5dd95da2_b8ec_11ea_ae3e_0242ac1c0002row4_col0\" class=\"data row4 col0\" >CatBoost Classifier</td>\n",
              "                        <td id=\"T_5dd95da2_b8ec_11ea_ae3e_0242ac1c0002row4_col1\" class=\"data row4 col1\" >0.822700</td>\n",
              "                        <td id=\"T_5dd95da2_b8ec_11ea_ae3e_0242ac1c0002row4_col2\" class=\"data row4 col2\" >0.752800</td>\n",
              "                        <td id=\"T_5dd95da2_b8ec_11ea_ae3e_0242ac1c0002row4_col3\" class=\"data row4 col3\" >0.350000</td>\n",
              "                        <td id=\"T_5dd95da2_b8ec_11ea_ae3e_0242ac1c0002row4_col4\" class=\"data row4 col4\" >0.400000</td>\n",
              "                        <td id=\"T_5dd95da2_b8ec_11ea_ae3e_0242ac1c0002row4_col5\" class=\"data row4 col5\" >0.350000</td>\n",
              "                        <td id=\"T_5dd95da2_b8ec_11ea_ae3e_0242ac1c0002row4_col6\" class=\"data row4 col6\" >0.279500</td>\n",
              "            </tr>\n",
              "            <tr>\n",
              "                        <th id=\"T_5dd95da2_b8ec_11ea_ae3e_0242ac1c0002level0_row5\" class=\"row_heading level0 row5\" >5</th>\n",
              "                        <td id=\"T_5dd95da2_b8ec_11ea_ae3e_0242ac1c0002row5_col0\" class=\"data row5 col0\" >Linear Discriminant Analysis</td>\n",
              "                        <td id=\"T_5dd95da2_b8ec_11ea_ae3e_0242ac1c0002row5_col1\" class=\"data row5 col1\" >0.821800</td>\n",
              "                        <td id=\"T_5dd95da2_b8ec_11ea_ae3e_0242ac1c0002row5_col2\" class=\"data row5 col2\" >0.750700</td>\n",
              "                        <td id=\"T_5dd95da2_b8ec_11ea_ae3e_0242ac1c0002row5_col3\" class=\"data row5 col3\" >0.500000</td>\n",
              "                        <td id=\"T_5dd95da2_b8ec_11ea_ae3e_0242ac1c0002row5_col4\" class=\"data row5 col4\" >0.600000</td>\n",
              "                        <td id=\"T_5dd95da2_b8ec_11ea_ae3e_0242ac1c0002row5_col5\" class=\"data row5 col5\" >0.520000</td>\n",
              "                        <td id=\"T_5dd95da2_b8ec_11ea_ae3e_0242ac1c0002row5_col6\" class=\"data row5 col6\" >0.413100</td>\n",
              "            </tr>\n",
              "            <tr>\n",
              "                        <th id=\"T_5dd95da2_b8ec_11ea_ae3e_0242ac1c0002level0_row6\" class=\"row_heading level0 row6\" >6</th>\n",
              "                        <td id=\"T_5dd95da2_b8ec_11ea_ae3e_0242ac1c0002row6_col0\" class=\"data row6 col0\" >Light Gradient Boosting Machine</td>\n",
              "                        <td id=\"T_5dd95da2_b8ec_11ea_ae3e_0242ac1c0002row6_col1\" class=\"data row6 col1\" >0.821800</td>\n",
              "                        <td id=\"T_5dd95da2_b8ec_11ea_ae3e_0242ac1c0002row6_col2\" class=\"data row6 col2\" >0.742400</td>\n",
              "                        <td id=\"T_5dd95da2_b8ec_11ea_ae3e_0242ac1c0002row6_col3\" class=\"data row6 col3\" >0.300000</td>\n",
              "                        <td id=\"T_5dd95da2_b8ec_11ea_ae3e_0242ac1c0002row6_col4\" class=\"data row6 col4\" >0.416700</td>\n",
              "                        <td id=\"T_5dd95da2_b8ec_11ea_ae3e_0242ac1c0002row6_col5\" class=\"data row6 col5\" >0.330000</td>\n",
              "                        <td id=\"T_5dd95da2_b8ec_11ea_ae3e_0242ac1c0002row6_col6\" class=\"data row6 col6\" >0.256700</td>\n",
              "            </tr>\n",
              "            <tr>\n",
              "                        <th id=\"T_5dd95da2_b8ec_11ea_ae3e_0242ac1c0002level0_row7\" class=\"row_heading level0 row7\" >7</th>\n",
              "                        <td id=\"T_5dd95da2_b8ec_11ea_ae3e_0242ac1c0002row7_col0\" class=\"data row7 col0\" >Quadratic Discriminant Analysis</td>\n",
              "                        <td id=\"T_5dd95da2_b8ec_11ea_ae3e_0242ac1c0002row7_col1\" class=\"data row7 col1\" >0.813600</td>\n",
              "                        <td id=\"T_5dd95da2_b8ec_11ea_ae3e_0242ac1c0002row7_col2\" class=\"data row7 col2\" >0.500000</td>\n",
              "                        <td id=\"T_5dd95da2_b8ec_11ea_ae3e_0242ac1c0002row7_col3\" class=\"data row7 col3\" >0.000000</td>\n",
              "                        <td id=\"T_5dd95da2_b8ec_11ea_ae3e_0242ac1c0002row7_col4\" class=\"data row7 col4\" >0.000000</td>\n",
              "                        <td id=\"T_5dd95da2_b8ec_11ea_ae3e_0242ac1c0002row7_col5\" class=\"data row7 col5\" >0.000000</td>\n",
              "                        <td id=\"T_5dd95da2_b8ec_11ea_ae3e_0242ac1c0002row7_col6\" class=\"data row7 col6\" >0.000000</td>\n",
              "            </tr>\n",
              "            <tr>\n",
              "                        <th id=\"T_5dd95da2_b8ec_11ea_ae3e_0242ac1c0002level0_row8\" class=\"row_heading level0 row8\" >8</th>\n",
              "                        <td id=\"T_5dd95da2_b8ec_11ea_ae3e_0242ac1c0002row8_col0\" class=\"data row8 col0\" >Ridge Classifier</td>\n",
              "                        <td id=\"T_5dd95da2_b8ec_11ea_ae3e_0242ac1c0002row8_col1\" class=\"data row8 col1\" >0.802700</td>\n",
              "                        <td id=\"T_5dd95da2_b8ec_11ea_ae3e_0242ac1c0002row8_col2\" class=\"data row8 col2\" >0.000000</td>\n",
              "                        <td id=\"T_5dd95da2_b8ec_11ea_ae3e_0242ac1c0002row8_col3\" class=\"data row8 col3\" >0.300000</td>\n",
              "                        <td id=\"T_5dd95da2_b8ec_11ea_ae3e_0242ac1c0002row8_col4\" class=\"data row8 col4\" >0.433300</td>\n",
              "                        <td id=\"T_5dd95da2_b8ec_11ea_ae3e_0242ac1c0002row8_col5\" class=\"data row8 col5\" >0.340000</td>\n",
              "                        <td id=\"T_5dd95da2_b8ec_11ea_ae3e_0242ac1c0002row8_col6\" class=\"data row8 col6\" >0.246500</td>\n",
              "            </tr>\n",
              "            <tr>\n",
              "                        <th id=\"T_5dd95da2_b8ec_11ea_ae3e_0242ac1c0002level0_row9\" class=\"row_heading level0 row9\" >9</th>\n",
              "                        <td id=\"T_5dd95da2_b8ec_11ea_ae3e_0242ac1c0002row9_col0\" class=\"data row9 col0\" >Ada Boost Classifier</td>\n",
              "                        <td id=\"T_5dd95da2_b8ec_11ea_ae3e_0242ac1c0002row9_col1\" class=\"data row9 col1\" >0.793600</td>\n",
              "                        <td id=\"T_5dd95da2_b8ec_11ea_ae3e_0242ac1c0002row9_col2\" class=\"data row9 col2\" >0.752100</td>\n",
              "                        <td id=\"T_5dd95da2_b8ec_11ea_ae3e_0242ac1c0002row9_col3\" class=\"data row9 col3\" >0.250000</td>\n",
              "                        <td id=\"T_5dd95da2_b8ec_11ea_ae3e_0242ac1c0002row9_col4\" class=\"data row9 col4\" >0.383300</td>\n",
              "                        <td id=\"T_5dd95da2_b8ec_11ea_ae3e_0242ac1c0002row9_col5\" class=\"data row9 col5\" >0.290000</td>\n",
              "                        <td id=\"T_5dd95da2_b8ec_11ea_ae3e_0242ac1c0002row9_col6\" class=\"data row9 col6\" >0.205500</td>\n",
              "            </tr>\n",
              "            <tr>\n",
              "                        <th id=\"T_5dd95da2_b8ec_11ea_ae3e_0242ac1c0002level0_row10\" class=\"row_heading level0 row10\" >10</th>\n",
              "                        <td id=\"T_5dd95da2_b8ec_11ea_ae3e_0242ac1c0002row10_col0\" class=\"data row10 col0\" >Gradient Boosting Classifier</td>\n",
              "                        <td id=\"T_5dd95da2_b8ec_11ea_ae3e_0242ac1c0002row10_col1\" class=\"data row10 col1\" >0.793600</td>\n",
              "                        <td id=\"T_5dd95da2_b8ec_11ea_ae3e_0242ac1c0002row10_col2\" class=\"data row10 col2\" >0.766700</td>\n",
              "                        <td id=\"T_5dd95da2_b8ec_11ea_ae3e_0242ac1c0002row10_col3\" class=\"data row10 col3\" >0.300000</td>\n",
              "                        <td id=\"T_5dd95da2_b8ec_11ea_ae3e_0242ac1c0002row10_col4\" class=\"data row10 col4\" >0.366700</td>\n",
              "                        <td id=\"T_5dd95da2_b8ec_11ea_ae3e_0242ac1c0002row10_col5\" class=\"data row10 col5\" >0.313300</td>\n",
              "                        <td id=\"T_5dd95da2_b8ec_11ea_ae3e_0242ac1c0002row10_col6\" class=\"data row10 col6\" >0.215800</td>\n",
              "            </tr>\n",
              "            <tr>\n",
              "                        <th id=\"T_5dd95da2_b8ec_11ea_ae3e_0242ac1c0002level0_row11\" class=\"row_heading level0 row11\" >11</th>\n",
              "                        <td id=\"T_5dd95da2_b8ec_11ea_ae3e_0242ac1c0002row11_col0\" class=\"data row11 col0\" >Decision Tree Classifier</td>\n",
              "                        <td id=\"T_5dd95da2_b8ec_11ea_ae3e_0242ac1c0002row11_col1\" class=\"data row11 col1\" >0.783600</td>\n",
              "                        <td id=\"T_5dd95da2_b8ec_11ea_ae3e_0242ac1c0002row11_col2\" class=\"data row11 col2\" >0.672200</td>\n",
              "                        <td id=\"T_5dd95da2_b8ec_11ea_ae3e_0242ac1c0002row11_col3\" class=\"data row11 col3\" >0.500000</td>\n",
              "                        <td id=\"T_5dd95da2_b8ec_11ea_ae3e_0242ac1c0002row11_col4\" class=\"data row11 col4\" >0.523300</td>\n",
              "                        <td id=\"T_5dd95da2_b8ec_11ea_ae3e_0242ac1c0002row11_col5\" class=\"data row11 col5\" >0.480500</td>\n",
              "                        <td id=\"T_5dd95da2_b8ec_11ea_ae3e_0242ac1c0002row11_col6\" class=\"data row11 col6\" >0.356800</td>\n",
              "            </tr>\n",
              "            <tr>\n",
              "                        <th id=\"T_5dd95da2_b8ec_11ea_ae3e_0242ac1c0002level0_row12\" class=\"row_heading level0 row12\" >12</th>\n",
              "                        <td id=\"T_5dd95da2_b8ec_11ea_ae3e_0242ac1c0002row12_col0\" class=\"data row12 col0\" >K Neighbors Classifier</td>\n",
              "                        <td id=\"T_5dd95da2_b8ec_11ea_ae3e_0242ac1c0002row12_col1\" class=\"data row12 col1\" >0.775500</td>\n",
              "                        <td id=\"T_5dd95da2_b8ec_11ea_ae3e_0242ac1c0002row12_col2\" class=\"data row12 col2\" >0.599000</td>\n",
              "                        <td id=\"T_5dd95da2_b8ec_11ea_ae3e_0242ac1c0002row12_col3\" class=\"data row12 col3\" >0.050000</td>\n",
              "                        <td id=\"T_5dd95da2_b8ec_11ea_ae3e_0242ac1c0002row12_col4\" class=\"data row12 col4\" >0.100000</td>\n",
              "                        <td id=\"T_5dd95da2_b8ec_11ea_ae3e_0242ac1c0002row12_col5\" class=\"data row12 col5\" >0.066700</td>\n",
              "                        <td id=\"T_5dd95da2_b8ec_11ea_ae3e_0242ac1c0002row12_col6\" class=\"data row12 col6\" >-0.002600</td>\n",
              "            </tr>\n",
              "            <tr>\n",
              "                        <th id=\"T_5dd95da2_b8ec_11ea_ae3e_0242ac1c0002level0_row13\" class=\"row_heading level0 row13\" >13</th>\n",
              "                        <td id=\"T_5dd95da2_b8ec_11ea_ae3e_0242ac1c0002row13_col0\" class=\"data row13 col0\" >Naive Bayes</td>\n",
              "                        <td id=\"T_5dd95da2_b8ec_11ea_ae3e_0242ac1c0002row13_col1\" class=\"data row13 col1\" >0.715500</td>\n",
              "                        <td id=\"T_5dd95da2_b8ec_11ea_ae3e_0242ac1c0002row13_col2\" class=\"data row13 col2\" >0.813500</td>\n",
              "                        <td id=\"T_5dd95da2_b8ec_11ea_ae3e_0242ac1c0002row13_col3\" class=\"data row13 col3\" >0.750000</td>\n",
              "                        <td id=\"T_5dd95da2_b8ec_11ea_ae3e_0242ac1c0002row13_col4\" class=\"data row13 col4\" >0.391700</td>\n",
              "                        <td id=\"T_5dd95da2_b8ec_11ea_ae3e_0242ac1c0002row13_col5\" class=\"data row13 col5\" >0.498300</td>\n",
              "                        <td id=\"T_5dd95da2_b8ec_11ea_ae3e_0242ac1c0002row13_col6\" class=\"data row13 col6\" >0.335500</td>\n",
              "            </tr>\n",
              "            <tr>\n",
              "                        <th id=\"T_5dd95da2_b8ec_11ea_ae3e_0242ac1c0002level0_row14\" class=\"row_heading level0 row14\" >14</th>\n",
              "                        <td id=\"T_5dd95da2_b8ec_11ea_ae3e_0242ac1c0002row14_col0\" class=\"data row14 col0\" >SVM - Linear Kernel</td>\n",
              "                        <td id=\"T_5dd95da2_b8ec_11ea_ae3e_0242ac1c0002row14_col1\" class=\"data row14 col1\" >0.703600</td>\n",
              "                        <td id=\"T_5dd95da2_b8ec_11ea_ae3e_0242ac1c0002row14_col2\" class=\"data row14 col2\" >0.000000</td>\n",
              "                        <td id=\"T_5dd95da2_b8ec_11ea_ae3e_0242ac1c0002row14_col3\" class=\"data row14 col3\" >0.350000</td>\n",
              "                        <td id=\"T_5dd95da2_b8ec_11ea_ae3e_0242ac1c0002row14_col4\" class=\"data row14 col4\" >0.273600</td>\n",
              "                        <td id=\"T_5dd95da2_b8ec_11ea_ae3e_0242ac1c0002row14_col5\" class=\"data row14 col5\" >0.244400</td>\n",
              "                        <td id=\"T_5dd95da2_b8ec_11ea_ae3e_0242ac1c0002row14_col6\" class=\"data row14 col6\" >0.136100</td>\n",
              "            </tr>\n",
              "    </tbody></table>"
            ],
            "text/plain": [
              "<pandas.io.formats.style.Styler at 0x7f2be36aed68>"
            ]
          },
          "metadata": {
            "tags": []
          },
          "execution_count": 21
        }
      ]
    },
    {
      "cell_type": "code",
      "metadata": {
        "id": "rA3CEgGG5N_i",
        "colab_type": "code",
        "colab": {
          "base_uri": "https://localhost:8080/",
          "height": 421
        },
        "outputId": "6447081d-aa81-429c-df73-75f67d677d79"
      },
      "source": [
        "lr = create_model('lr')"
      ],
      "execution_count": 22,
      "outputs": [
        {
          "output_type": "display_data",
          "data": {
            "text/html": [
              "<div>\n",
              "<style scoped>\n",
              "    .dataframe tbody tr th:only-of-type {\n",
              "        vertical-align: middle;\n",
              "    }\n",
              "\n",
              "    .dataframe tbody tr th {\n",
              "        vertical-align: top;\n",
              "    }\n",
              "\n",
              "    .dataframe thead th {\n",
              "        text-align: right;\n",
              "    }\n",
              "</style>\n",
              "<table border=\"1\" class=\"dataframe\">\n",
              "  <thead>\n",
              "    <tr style=\"text-align: right;\">\n",
              "      <th></th>\n",
              "      <th>Accuracy</th>\n",
              "      <th>AUC</th>\n",
              "      <th>Recall</th>\n",
              "      <th>Prec.</th>\n",
              "      <th>F1</th>\n",
              "      <th>Kappa</th>\n",
              "    </tr>\n",
              "  </thead>\n",
              "  <tbody>\n",
              "    <tr>\n",
              "      <th>0</th>\n",
              "      <td>0.9091</td>\n",
              "      <td>0.8333</td>\n",
              "      <td>0.5000</td>\n",
              "      <td>1.0000</td>\n",
              "      <td>0.6667</td>\n",
              "      <td>0.6207</td>\n",
              "    </tr>\n",
              "    <tr>\n",
              "      <th>1</th>\n",
              "      <td>0.9091</td>\n",
              "      <td>0.9444</td>\n",
              "      <td>0.5000</td>\n",
              "      <td>1.0000</td>\n",
              "      <td>0.6667</td>\n",
              "      <td>0.6207</td>\n",
              "    </tr>\n",
              "    <tr>\n",
              "      <th>2</th>\n",
              "      <td>0.8000</td>\n",
              "      <td>0.1111</td>\n",
              "      <td>0.0000</td>\n",
              "      <td>0.0000</td>\n",
              "      <td>0.0000</td>\n",
              "      <td>-0.1111</td>\n",
              "    </tr>\n",
              "    <tr>\n",
              "      <th>3</th>\n",
              "      <td>0.7000</td>\n",
              "      <td>0.7500</td>\n",
              "      <td>0.0000</td>\n",
              "      <td>0.0000</td>\n",
              "      <td>0.0000</td>\n",
              "      <td>-0.1538</td>\n",
              "    </tr>\n",
              "    <tr>\n",
              "      <th>4</th>\n",
              "      <td>0.9000</td>\n",
              "      <td>1.0000</td>\n",
              "      <td>0.5000</td>\n",
              "      <td>1.0000</td>\n",
              "      <td>0.6667</td>\n",
              "      <td>0.6154</td>\n",
              "    </tr>\n",
              "    <tr>\n",
              "      <th>5</th>\n",
              "      <td>0.9000</td>\n",
              "      <td>0.5000</td>\n",
              "      <td>0.5000</td>\n",
              "      <td>1.0000</td>\n",
              "      <td>0.6667</td>\n",
              "      <td>0.6154</td>\n",
              "    </tr>\n",
              "    <tr>\n",
              "      <th>6</th>\n",
              "      <td>0.8000</td>\n",
              "      <td>0.6875</td>\n",
              "      <td>0.0000</td>\n",
              "      <td>0.0000</td>\n",
              "      <td>0.0000</td>\n",
              "      <td>0.0000</td>\n",
              "    </tr>\n",
              "    <tr>\n",
              "      <th>7</th>\n",
              "      <td>0.8000</td>\n",
              "      <td>0.8750</td>\n",
              "      <td>0.5000</td>\n",
              "      <td>0.5000</td>\n",
              "      <td>0.5000</td>\n",
              "      <td>0.3750</td>\n",
              "    </tr>\n",
              "    <tr>\n",
              "      <th>8</th>\n",
              "      <td>0.8000</td>\n",
              "      <td>0.7500</td>\n",
              "      <td>0.0000</td>\n",
              "      <td>0.0000</td>\n",
              "      <td>0.0000</td>\n",
              "      <td>0.0000</td>\n",
              "    </tr>\n",
              "    <tr>\n",
              "      <th>9</th>\n",
              "      <td>0.9000</td>\n",
              "      <td>1.0000</td>\n",
              "      <td>0.5000</td>\n",
              "      <td>1.0000</td>\n",
              "      <td>0.6667</td>\n",
              "      <td>0.6154</td>\n",
              "    </tr>\n",
              "    <tr>\n",
              "      <th>Mean</th>\n",
              "      <td>0.8418</td>\n",
              "      <td>0.7451</td>\n",
              "      <td>0.3000</td>\n",
              "      <td>0.5500</td>\n",
              "      <td>0.3833</td>\n",
              "      <td>0.3198</td>\n",
              "    </tr>\n",
              "    <tr>\n",
              "      <th>SD</th>\n",
              "      <td>0.0681</td>\n",
              "      <td>0.2569</td>\n",
              "      <td>0.2449</td>\n",
              "      <td>0.4717</td>\n",
              "      <td>0.3167</td>\n",
              "      <td>0.3257</td>\n",
              "    </tr>\n",
              "  </tbody>\n",
              "</table>\n",
              "</div>"
            ],
            "text/plain": [
              "      Accuracy     AUC  Recall   Prec.      F1   Kappa\n",
              "0       0.9091  0.8333  0.5000  1.0000  0.6667  0.6207\n",
              "1       0.9091  0.9444  0.5000  1.0000  0.6667  0.6207\n",
              "2       0.8000  0.1111  0.0000  0.0000  0.0000 -0.1111\n",
              "3       0.7000  0.7500  0.0000  0.0000  0.0000 -0.1538\n",
              "4       0.9000  1.0000  0.5000  1.0000  0.6667  0.6154\n",
              "5       0.9000  0.5000  0.5000  1.0000  0.6667  0.6154\n",
              "6       0.8000  0.6875  0.0000  0.0000  0.0000  0.0000\n",
              "7       0.8000  0.8750  0.5000  0.5000  0.5000  0.3750\n",
              "8       0.8000  0.7500  0.0000  0.0000  0.0000  0.0000\n",
              "9       0.9000  1.0000  0.5000  1.0000  0.6667  0.6154\n",
              "Mean    0.8418  0.7451  0.3000  0.5500  0.3833  0.3198\n",
              "SD      0.0681  0.2569  0.2449  0.4717  0.3167  0.3257"
            ]
          },
          "metadata": {
            "tags": []
          }
        }
      ]
    },
    {
      "cell_type": "code",
      "metadata": {
        "id": "94lxdLwV56xO",
        "colab_type": "code",
        "colab": {
          "base_uri": "https://localhost:8080/",
          "height": 102
        },
        "outputId": "8dfc8357-ef12-41bd-cac9-0b6ff7e0cf56"
      },
      "source": [
        "print(lr)"
      ],
      "execution_count": 23,
      "outputs": [
        {
          "output_type": "display_data",
          "data": {
            "text/html": [
              "\n",
              "            <script src=\"/static/components/requirejs/require.js\"></script>\n",
              "            <script>\n",
              "              requirejs.config({\n",
              "                paths: {\n",
              "                  base: '/static/base',\n",
              "                  plotly: 'https://cdn.plot.ly/plotly-latest.min.js?noext',\n",
              "                },\n",
              "              });\n",
              "            </script>\n",
              "            "
            ],
            "text/plain": [
              "<IPython.core.display.HTML object>"
            ]
          },
          "metadata": {
            "tags": []
          }
        },
        {
          "output_type": "display_data",
          "data": {
            "text/html": [
              "\n",
              "            <script src=\"/static/components/requirejs/require.js\"></script>\n",
              "            <script>\n",
              "              requirejs.config({\n",
              "                paths: {\n",
              "                  base: '/static/base',\n",
              "                  plotly: 'https://cdn.plot.ly/plotly-latest.min.js?noext',\n",
              "                },\n",
              "              });\n",
              "            </script>\n",
              "            "
            ],
            "text/plain": [
              "<IPython.core.display.HTML object>"
            ]
          },
          "metadata": {
            "tags": []
          }
        },
        {
          "output_type": "stream",
          "text": [
            "LogisticRegression(C=1.0, class_weight=None, dual=False, fit_intercept=True,\n",
            "                   intercept_scaling=1, l1_ratio=None, max_iter=100,\n",
            "                   multi_class='auto', n_jobs=None, penalty='l2',\n",
            "                   random_state=123, solver='lbfgs', tol=0.0001, verbose=0,\n",
            "                   warm_start=False)\n"
          ],
          "name": "stdout"
        }
      ]
    },
    {
      "cell_type": "code",
      "metadata": {
        "id": "xOPlHQll6EsC",
        "colab_type": "code",
        "colab": {
          "base_uri": "https://localhost:8080/",
          "height": 421
        },
        "outputId": "23ac5c28-85cb-4a11-e603-0fce31c437df"
      },
      "source": [
        "tuned_lr = tune_model('lr')"
      ],
      "execution_count": 24,
      "outputs": [
        {
          "output_type": "display_data",
          "data": {
            "text/html": [
              "<div>\n",
              "<style scoped>\n",
              "    .dataframe tbody tr th:only-of-type {\n",
              "        vertical-align: middle;\n",
              "    }\n",
              "\n",
              "    .dataframe tbody tr th {\n",
              "        vertical-align: top;\n",
              "    }\n",
              "\n",
              "    .dataframe thead th {\n",
              "        text-align: right;\n",
              "    }\n",
              "</style>\n",
              "<table border=\"1\" class=\"dataframe\">\n",
              "  <thead>\n",
              "    <tr style=\"text-align: right;\">\n",
              "      <th></th>\n",
              "      <th>Accuracy</th>\n",
              "      <th>AUC</th>\n",
              "      <th>Recall</th>\n",
              "      <th>Prec.</th>\n",
              "      <th>F1</th>\n",
              "      <th>Kappa</th>\n",
              "    </tr>\n",
              "  </thead>\n",
              "  <tbody>\n",
              "    <tr>\n",
              "      <th>0</th>\n",
              "      <td>0.9091</td>\n",
              "      <td>0.8333</td>\n",
              "      <td>0.5000</td>\n",
              "      <td>1.0000</td>\n",
              "      <td>0.6667</td>\n",
              "      <td>0.6207</td>\n",
              "    </tr>\n",
              "    <tr>\n",
              "      <th>1</th>\n",
              "      <td>0.9091</td>\n",
              "      <td>1.0000</td>\n",
              "      <td>0.5000</td>\n",
              "      <td>1.0000</td>\n",
              "      <td>0.6667</td>\n",
              "      <td>0.6207</td>\n",
              "    </tr>\n",
              "    <tr>\n",
              "      <th>2</th>\n",
              "      <td>0.8000</td>\n",
              "      <td>0.1111</td>\n",
              "      <td>0.0000</td>\n",
              "      <td>0.0000</td>\n",
              "      <td>0.0000</td>\n",
              "      <td>-0.1111</td>\n",
              "    </tr>\n",
              "    <tr>\n",
              "      <th>3</th>\n",
              "      <td>0.6000</td>\n",
              "      <td>0.7500</td>\n",
              "      <td>0.0000</td>\n",
              "      <td>0.0000</td>\n",
              "      <td>0.0000</td>\n",
              "      <td>-0.2500</td>\n",
              "    </tr>\n",
              "    <tr>\n",
              "      <th>4</th>\n",
              "      <td>1.0000</td>\n",
              "      <td>1.0000</td>\n",
              "      <td>1.0000</td>\n",
              "      <td>1.0000</td>\n",
              "      <td>1.0000</td>\n",
              "      <td>1.0000</td>\n",
              "    </tr>\n",
              "    <tr>\n",
              "      <th>5</th>\n",
              "      <td>0.9000</td>\n",
              "      <td>0.5000</td>\n",
              "      <td>0.5000</td>\n",
              "      <td>1.0000</td>\n",
              "      <td>0.6667</td>\n",
              "      <td>0.6154</td>\n",
              "    </tr>\n",
              "    <tr>\n",
              "      <th>6</th>\n",
              "      <td>0.7000</td>\n",
              "      <td>0.6875</td>\n",
              "      <td>0.0000</td>\n",
              "      <td>0.0000</td>\n",
              "      <td>0.0000</td>\n",
              "      <td>-0.1538</td>\n",
              "    </tr>\n",
              "    <tr>\n",
              "      <th>7</th>\n",
              "      <td>0.8000</td>\n",
              "      <td>0.8750</td>\n",
              "      <td>0.5000</td>\n",
              "      <td>0.5000</td>\n",
              "      <td>0.5000</td>\n",
              "      <td>0.3750</td>\n",
              "    </tr>\n",
              "    <tr>\n",
              "      <th>8</th>\n",
              "      <td>0.8000</td>\n",
              "      <td>0.7500</td>\n",
              "      <td>0.0000</td>\n",
              "      <td>0.0000</td>\n",
              "      <td>0.0000</td>\n",
              "      <td>0.0000</td>\n",
              "    </tr>\n",
              "    <tr>\n",
              "      <th>9</th>\n",
              "      <td>0.9000</td>\n",
              "      <td>1.0000</td>\n",
              "      <td>0.5000</td>\n",
              "      <td>1.0000</td>\n",
              "      <td>0.6667</td>\n",
              "      <td>0.6154</td>\n",
              "    </tr>\n",
              "    <tr>\n",
              "      <th>Mean</th>\n",
              "      <td>0.8318</td>\n",
              "      <td>0.7507</td>\n",
              "      <td>0.3500</td>\n",
              "      <td>0.5500</td>\n",
              "      <td>0.4167</td>\n",
              "      <td>0.3332</td>\n",
              "    </tr>\n",
              "    <tr>\n",
              "      <th>SD</th>\n",
              "      <td>0.1112</td>\n",
              "      <td>0.2617</td>\n",
              "      <td>0.3202</td>\n",
              "      <td>0.4717</td>\n",
              "      <td>0.3594</td>\n",
              "      <td>0.4070</td>\n",
              "    </tr>\n",
              "  </tbody>\n",
              "</table>\n",
              "</div>"
            ],
            "text/plain": [
              "      Accuracy     AUC  Recall   Prec.      F1   Kappa\n",
              "0       0.9091  0.8333  0.5000  1.0000  0.6667  0.6207\n",
              "1       0.9091  1.0000  0.5000  1.0000  0.6667  0.6207\n",
              "2       0.8000  0.1111  0.0000  0.0000  0.0000 -0.1111\n",
              "3       0.6000  0.7500  0.0000  0.0000  0.0000 -0.2500\n",
              "4       1.0000  1.0000  1.0000  1.0000  1.0000  1.0000\n",
              "5       0.9000  0.5000  0.5000  1.0000  0.6667  0.6154\n",
              "6       0.7000  0.6875  0.0000  0.0000  0.0000 -0.1538\n",
              "7       0.8000  0.8750  0.5000  0.5000  0.5000  0.3750\n",
              "8       0.8000  0.7500  0.0000  0.0000  0.0000  0.0000\n",
              "9       0.9000  1.0000  0.5000  1.0000  0.6667  0.6154\n",
              "Mean    0.8318  0.7507  0.3500  0.5500  0.4167  0.3332\n",
              "SD      0.1112  0.2617  0.3202  0.4717  0.3594  0.4070"
            ]
          },
          "metadata": {
            "tags": []
          }
        }
      ]
    },
    {
      "cell_type": "code",
      "metadata": {
        "id": "cHHWgkr66rua",
        "colab_type": "code",
        "colab": {
          "base_uri": "https://localhost:8080/",
          "height": 102
        },
        "outputId": "a8537596-a76f-42bb-c126-92ab18ddb66e"
      },
      "source": [
        "print(tuned_lr)"
      ],
      "execution_count": 25,
      "outputs": [
        {
          "output_type": "display_data",
          "data": {
            "text/html": [
              "\n",
              "            <script src=\"/static/components/requirejs/require.js\"></script>\n",
              "            <script>\n",
              "              requirejs.config({\n",
              "                paths: {\n",
              "                  base: '/static/base',\n",
              "                  plotly: 'https://cdn.plot.ly/plotly-latest.min.js?noext',\n",
              "                },\n",
              "              });\n",
              "            </script>\n",
              "            "
            ],
            "text/plain": [
              "<IPython.core.display.HTML object>"
            ]
          },
          "metadata": {
            "tags": []
          }
        },
        {
          "output_type": "display_data",
          "data": {
            "text/html": [
              "\n",
              "            <script src=\"/static/components/requirejs/require.js\"></script>\n",
              "            <script>\n",
              "              requirejs.config({\n",
              "                paths: {\n",
              "                  base: '/static/base',\n",
              "                  plotly: 'https://cdn.plot.ly/plotly-latest.min.js?noext',\n",
              "                },\n",
              "              });\n",
              "            </script>\n",
              "            "
            ],
            "text/plain": [
              "<IPython.core.display.HTML object>"
            ]
          },
          "metadata": {
            "tags": []
          }
        },
        {
          "output_type": "stream",
          "text": [
            "LogisticRegression(C=1.94, class_weight=None, dual=False, fit_intercept=True,\n",
            "                   intercept_scaling=1, l1_ratio=None, max_iter=100,\n",
            "                   multi_class='auto', n_jobs=None, penalty='l2',\n",
            "                   random_state=123, solver='lbfgs', tol=0.0001, verbose=0,\n",
            "                   warm_start=False)\n"
          ],
          "name": "stdout"
        }
      ]
    },
    {
      "cell_type": "code",
      "metadata": {
        "id": "cufkEhmI60ka",
        "colab_type": "code",
        "colab": {
          "base_uri": "https://localhost:8080/",
          "height": 352
        },
        "outputId": "41b3d9c7-14ef-4c9e-d5e3-640252013911"
      },
      "source": [
        "plot_model(tuned_lr, plot='feature')"
      ],
      "execution_count": 26,
      "outputs": [
        {
          "output_type": "display_data",
          "data": {
            "image/png": "[encoded data removed]",
            "text/plain": [
              "<Figure size 576x360 with 1 Axes>"
            ]
          },
          "metadata": {
            "tags": []
          }
        }
      ]
    },
    {
      "cell_type": "code",
      "metadata": {
        "id": "EyPiABc37S7j",
        "colab_type": "code",
        "colab": {
          "base_uri": "https://localhost:8080/",
          "height": 80
        },
        "outputId": "11aa9264-986a-4cf7-c736-cef6ed8ea3c6"
      },
      "source": [
        "predict_model(tuned_lr);"
      ],
      "execution_count": 27,
      "outputs": [
        {
          "output_type": "display_data",
          "data": {
            "text/html": [
              "<div>\n",
              "<style scoped>\n",
              "    .dataframe tbody tr th:only-of-type {\n",
              "        vertical-align: middle;\n",
              "    }\n",
              "\n",
              "    .dataframe tbody tr th {\n",
              "        vertical-align: top;\n",
              "    }\n",
              "\n",
              "    .dataframe thead th {\n",
              "        text-align: right;\n",
              "    }\n",
              "</style>\n",
              "<table border=\"1\" class=\"dataframe\">\n",
              "  <thead>\n",
              "    <tr style=\"text-align: right;\">\n",
              "      <th></th>\n",
              "      <th>Model</th>\n",
              "      <th>Accuracy</th>\n",
              "      <th>AUC</th>\n",
              "      <th>Recall</th>\n",
              "      <th>Prec.</th>\n",
              "      <th>F1</th>\n",
              "      <th>Kappa</th>\n",
              "    </tr>\n",
              "  </thead>\n",
              "  <tbody>\n",
              "    <tr>\n",
              "      <th>0</th>\n",
              "      <td>Logistic Regression</td>\n",
              "      <td>0.9091</td>\n",
              "      <td>0.934</td>\n",
              "      <td>0.5</td>\n",
              "      <td>1.0</td>\n",
              "      <td>0.6667</td>\n",
              "      <td>0.6207</td>\n",
              "    </tr>\n",
              "  </tbody>\n",
              "</table>\n",
              "</div>"
            ],
            "text/plain": [
              "                 Model  Accuracy    AUC  Recall  Prec.      F1   Kappa\n",
              "0  Logistic Regression    0.9091  0.934     0.5    1.0  0.6667  0.6207"
            ]
          },
          "metadata": {
            "tags": []
          }
        }
      ]
    },
    {
      "cell_type": "code",
      "metadata": {
        "id": "jwm6NL6O8aPQ",
        "colab_type": "code",
        "colab": {}
      },
      "source": [
        "final_lr = finalize_model(tuned_lr)"
      ],
      "execution_count": 29,
      "outputs": []
    },
    {
      "cell_type": "code",
      "metadata": {
        "id": "mKPX4UJF9HFb",
        "colab_type": "code",
        "colab": {
          "base_uri": "https://localhost:8080/",
          "height": 102
        },
        "outputId": "540cb51a-b3be-4902-ad3e-6fe89cdc7476"
      },
      "source": [
        "print(final_lr)"
      ],
      "execution_count": 30,
      "outputs": [
        {
          "output_type": "display_data",
          "data": {
            "text/html": [
              "\n",
              "            <script src=\"/static/components/requirejs/require.js\"></script>\n",
              "            <script>\n",
              "              requirejs.config({\n",
              "                paths: {\n",
              "                  base: '/static/base',\n",
              "                  plotly: 'https://cdn.plot.ly/plotly-latest.min.js?noext',\n",
              "                },\n",
              "              });\n",
              "            </script>\n",
              "            "
            ],
            "text/plain": [
              "<IPython.core.display.HTML object>"
            ]
          },
          "metadata": {
            "tags": []
          }
        },
        {
          "output_type": "display_data",
          "data": {
            "text/html": [
              "\n",
              "            <script src=\"/static/components/requirejs/require.js\"></script>\n",
              "            <script>\n",
              "              requirejs.config({\n",
              "                paths: {\n",
              "                  base: '/static/base',\n",
              "                  plotly: 'https://cdn.plot.ly/plotly-latest.min.js?noext',\n",
              "                },\n",
              "              });\n",
              "            </script>\n",
              "            "
            ],
            "text/plain": [
              "<IPython.core.display.HTML object>"
            ]
          },
          "metadata": {
            "tags": []
          }
        },
        {
          "output_type": "stream",
          "text": [
            "LogisticRegression(C=1.94, class_weight=None, dual=False, fit_intercept=True,\n",
            "                   intercept_scaling=1, l1_ratio=None, max_iter=100,\n",
            "                   multi_class='auto', n_jobs=None, penalty='l2',\n",
            "                   random_state=123, solver='lbfgs', tol=0.0001, verbose=0,\n",
            "                   warm_start=False)\n"
          ],
          "name": "stdout"
        }
      ]
    },
    {
      "cell_type": "code",
      "metadata": {
        "id": "S4R3yOAq9X9E",
        "colab_type": "code",
        "colab": {
          "base_uri": "https://localhost:8080/",
          "height": 241
        },
        "outputId": "2bbeea9e-fe9a-4547-ab8e-87570f06aa6a"
      },
      "source": [
        "unseen_predictions = predict_model(final_lr, data=data_unseen)\n",
        "unseen_predictions.head()"
      ],
      "execution_count": 32,
      "outputs": [
        {
          "output_type": "execute_result",
          "data": {
            "text/html": [
              "<div>\n",
              "<style scoped>\n",
              "    .dataframe tbody tr th:only-of-type {\n",
              "        vertical-align: middle;\n",
              "    }\n",
              "\n",
              "    .dataframe tbody tr th {\n",
              "        vertical-align: top;\n",
              "    }\n",
              "\n",
              "    .dataframe thead th {\n",
              "        text-align: right;\n",
              "    }\n",
              "</style>\n",
              "<table border=\"1\" class=\"dataframe\">\n",
              "  <thead>\n",
              "    <tr style=\"text-align: right;\">\n",
              "      <th></th>\n",
              "      <th>Class</th>\n",
              "      <th>AGE</th>\n",
              "      <th>SEX</th>\n",
              "      <th>STEROID</th>\n",
              "      <th>ANTIVIRALS</th>\n",
              "      <th>FATIGUE</th>\n",
              "      <th>MALAISE</th>\n",
              "      <th>ANOREXIA</th>\n",
              "      <th>LIVER BIG</th>\n",
              "      <th>LIVER FIRM</th>\n",
              "      <th>SPLEEN PALPABLE</th>\n",
              "      <th>SPIDERS</th>\n",
              "      <th>ASCITES</th>\n",
              "      <th>VARICES</th>\n",
              "      <th>BILIRUBIN</th>\n",
              "      <th>ALK PHOSPHATE</th>\n",
              "      <th>SGOT</th>\n",
              "      <th>ALBUMIN</th>\n",
              "      <th>PROTIME</th>\n",
              "      <th>HISTOLOGY</th>\n",
              "      <th>Label</th>\n",
              "      <th>Score</th>\n",
              "    </tr>\n",
              "  </thead>\n",
              "  <tbody>\n",
              "    <tr>\n",
              "      <th>0</th>\n",
              "      <td>0</td>\n",
              "      <td>22</td>\n",
              "      <td>2</td>\n",
              "      <td>2.0</td>\n",
              "      <td>1</td>\n",
              "      <td>1</td>\n",
              "      <td>2</td>\n",
              "      <td>2</td>\n",
              "      <td>2.0</td>\n",
              "      <td>2.0</td>\n",
              "      <td>2.0</td>\n",
              "      <td>2.0</td>\n",
              "      <td>2.0</td>\n",
              "      <td>2.0</td>\n",
              "      <td>0.9</td>\n",
              "      <td>48.0</td>\n",
              "      <td>20.0</td>\n",
              "      <td>4.2</td>\n",
              "      <td>64.0</td>\n",
              "      <td>1</td>\n",
              "      <td>0</td>\n",
              "      <td>0.0041</td>\n",
              "    </tr>\n",
              "    <tr>\n",
              "      <th>1</th>\n",
              "      <td>1</td>\n",
              "      <td>39</td>\n",
              "      <td>1</td>\n",
              "      <td>1.0</td>\n",
              "      <td>1</td>\n",
              "      <td>1</td>\n",
              "      <td>1</td>\n",
              "      <td>2</td>\n",
              "      <td>2.0</td>\n",
              "      <td>1.0</td>\n",
              "      <td>2.0</td>\n",
              "      <td>2.0</td>\n",
              "      <td>2.0</td>\n",
              "      <td>2.0</td>\n",
              "      <td>2.3</td>\n",
              "      <td>280.0</td>\n",
              "      <td>98.0</td>\n",
              "      <td>3.8</td>\n",
              "      <td>40.0</td>\n",
              "      <td>1</td>\n",
              "      <td>0</td>\n",
              "      <td>0.0756</td>\n",
              "    </tr>\n",
              "    <tr>\n",
              "      <th>2</th>\n",
              "      <td>0</td>\n",
              "      <td>27</td>\n",
              "      <td>1</td>\n",
              "      <td>2.0</td>\n",
              "      <td>2</td>\n",
              "      <td>2</td>\n",
              "      <td>2</td>\n",
              "      <td>2</td>\n",
              "      <td>2.0</td>\n",
              "      <td>2.0</td>\n",
              "      <td>2.0</td>\n",
              "      <td>2.0</td>\n",
              "      <td>2.0</td>\n",
              "      <td>2.0</td>\n",
              "      <td>0.8</td>\n",
              "      <td>NaN</td>\n",
              "      <td>38.0</td>\n",
              "      <td>4.2</td>\n",
              "      <td>NaN</td>\n",
              "      <td>1</td>\n",
              "      <td>0</td>\n",
              "      <td>0.0148</td>\n",
              "    </tr>\n",
              "    <tr>\n",
              "      <th>3</th>\n",
              "      <td>1</td>\n",
              "      <td>38</td>\n",
              "      <td>1</td>\n",
              "      <td>1.0</td>\n",
              "      <td>2</td>\n",
              "      <td>1</td>\n",
              "      <td>1</td>\n",
              "      <td>1</td>\n",
              "      <td>2.0</td>\n",
              "      <td>1.0</td>\n",
              "      <td>2.0</td>\n",
              "      <td>1.0</td>\n",
              "      <td>1.0</td>\n",
              "      <td>1.0</td>\n",
              "      <td>1.2</td>\n",
              "      <td>118.0</td>\n",
              "      <td>16.0</td>\n",
              "      <td>2.8</td>\n",
              "      <td>NaN</td>\n",
              "      <td>2</td>\n",
              "      <td>0</td>\n",
              "      <td>0.4066</td>\n",
              "    </tr>\n",
              "    <tr>\n",
              "      <th>4</th>\n",
              "      <td>1</td>\n",
              "      <td>47</td>\n",
              "      <td>1</td>\n",
              "      <td>2.0</td>\n",
              "      <td>2</td>\n",
              "      <td>1</td>\n",
              "      <td>1</td>\n",
              "      <td>2</td>\n",
              "      <td>2.0</td>\n",
              "      <td>1.0</td>\n",
              "      <td>2.0</td>\n",
              "      <td>2.0</td>\n",
              "      <td>1.0</td>\n",
              "      <td>1.0</td>\n",
              "      <td>1.7</td>\n",
              "      <td>86.0</td>\n",
              "      <td>20.0</td>\n",
              "      <td>2.1</td>\n",
              "      <td>46.0</td>\n",
              "      <td>2</td>\n",
              "      <td>0</td>\n",
              "      <td>0.4992</td>\n",
              "    </tr>\n",
              "  </tbody>\n",
              "</table>\n",
              "</div>"
            ],
            "text/plain": [
              "   Class  AGE  SEX  STEROID  ...  PROTIME  HISTOLOGY  Label   Score\n",
              "0      0   22    2      2.0  ...     64.0          1      0  0.0041\n",
              "1      1   39    1      1.0  ...     40.0          1      0  0.0756\n",
              "2      0   27    1      2.0  ...      NaN          1      0  0.0148\n",
              "3      1   38    1      1.0  ...      NaN          2      0  0.4066\n",
              "4      1   47    1      2.0  ...     46.0          2      0  0.4992\n",
              "\n",
              "[5 rows x 22 columns]"
            ]
          },
          "metadata": {
            "tags": []
          },
          "execution_count": 32
        }
      ]
    },
    {
      "cell_type": "code",
      "metadata": {
        "id": "vdmG_sxX_Phi",
        "colab_type": "code",
        "colab": {
          "base_uri": "https://localhost:8080/",
          "height": 204
        },
        "outputId": "faba5d19-2cb9-44ab-bdaa-991275ff2ac4"
      },
      "source": [
        "print(unseen_predictions)"
      ],
      "execution_count": 33,
      "outputs": [
        {
          "output_type": "display_data",
          "data": {
            "text/html": [
              "\n",
              "            <script src=\"/static/components/requirejs/require.js\"></script>\n",
              "            <script>\n",
              "              requirejs.config({\n",
              "                paths: {\n",
              "                  base: '/static/base',\n",
              "                  plotly: 'https://cdn.plot.ly/plotly-latest.min.js?noext',\n",
              "                },\n",
              "              });\n",
              "            </script>\n",
              "            "
            ],
            "text/plain": [
              "<IPython.core.display.HTML object>"
            ]
          },
          "metadata": {
            "tags": []
          }
        },
        {
          "output_type": "display_data",
          "data": {
            "text/html": [
              "\n",
              "            <script src=\"/static/components/requirejs/require.js\"></script>\n",
              "            <script>\n",
              "              requirejs.config({\n",
              "                paths: {\n",
              "                  base: '/static/base',\n",
              "                  plotly: 'https://cdn.plot.ly/plotly-latest.min.js?noext',\n",
              "                },\n",
              "              });\n",
              "            </script>\n",
              "            "
            ],
            "text/plain": [
              "<IPython.core.display.HTML object>"
            ]
          },
          "metadata": {
            "tags": []
          }
        },
        {
          "output_type": "stream",
          "text": [
            "   Class  AGE  SEX  STEROID  ...  PROTIME  HISTOLOGY  Label   Score\n",
            "0      0   22    2      2.0  ...     64.0          1      0  0.0041\n",
            "1      1   39    1      1.0  ...     40.0          1      0  0.0756\n",
            "2      0   27    1      2.0  ...      NaN          1      0  0.0148\n",
            "3      1   38    1      1.0  ...      NaN          2      0  0.4066\n",
            "4      1   47    1      2.0  ...     46.0          2      0  0.4992\n",
            "5      0   54    1      1.0  ...     67.0          2      0  0.0121\n",
            "6      1   70    1      1.0  ...     35.0          2      0  0.3127\n",
            "7      1   43    1      2.0  ...     42.0          2      1  0.7259\n",
            "\n",
            "[8 rows x 22 columns]\n"
          ],
          "name": "stdout"
        }
      ]
    },
    {
      "cell_type": "code",
      "metadata": {
        "id": "svThhpZ6_o_R",
        "colab_type": "code",
        "colab": {
          "base_uri": "https://localhost:8080/",
          "height": 34
        },
        "outputId": "eed84975-df42-49d0-b178-6eb876053f04"
      },
      "source": [
        "save_model(final_lr,'Final lr Model 27June2020')"
      ],
      "execution_count": 34,
      "outputs": [
        {
          "output_type": "display_data",
          "data": {
            "text/html": [
              "\n",
              "            <script src=\"/static/components/requirejs/require.js\"></script>\n",
              "            <script>\n",
              "              requirejs.config({\n",
              "                paths: {\n",
              "                  base: '/static/base',\n",
              "                  plotly: 'https://cdn.plot.ly/plotly-latest.min.js?noext',\n",
              "                },\n",
              "              });\n",
              "            </script>\n",
              "            "
            ],
            "text/plain": [
              "<IPython.core.display.HTML object>"
            ]
          },
          "metadata": {
            "tags": []
          }
        },
        {
          "output_type": "display_data",
          "data": {
            "text/html": [
              "\n",
              "            <script src=\"/static/components/requirejs/require.js\"></script>\n",
              "            <script>\n",
              "              requirejs.config({\n",
              "                paths: {\n",
              "                  base: '/static/base',\n",
              "                  plotly: 'https://cdn.plot.ly/plotly-latest.min.js?noext',\n",
              "                },\n",
              "              });\n",
              "            </script>\n",
              "            "
            ],
            "text/plain": [
              "<IPython.core.display.HTML object>"
            ]
          },
          "metadata": {
            "tags": []
          }
        },
        {
          "output_type": "stream",
          "text": [
            "Transformation Pipeline and Model Succesfully Saved\n"
          ],
          "name": "stdout"
        }
      ]
    },
    {
      "cell_type": "code",
      "metadata": {
        "id": "zRDpEYSq_y5W",
        "colab_type": "code",
        "colab": {
          "base_uri": "https://localhost:8080/",
          "height": 34
        },
        "outputId": "c810d605-c681-45fa-b26a-83658a9aba73"
      },
      "source": [
        "saved_final_lr = load_model('Final lr Model 27June2020')"
      ],
      "execution_count": 35,
      "outputs": [
        {
          "output_type": "display_data",
          "data": {
            "text/html": [
              "\n",
              "            <script src=\"/static/components/requirejs/require.js\"></script>\n",
              "            <script>\n",
              "              requirejs.config({\n",
              "                paths: {\n",
              "                  base: '/static/base',\n",
              "                  plotly: 'https://cdn.plot.ly/plotly-latest.min.js?noext',\n",
              "                },\n",
              "              });\n",
              "            </script>\n",
              "            "
            ],
            "text/plain": [
              "<IPython.core.display.HTML object>"
            ]
          },
          "metadata": {
            "tags": []
          }
        },
        {
          "output_type": "display_data",
          "data": {
            "text/html": [
              "\n",
              "            <script src=\"/static/components/requirejs/require.js\"></script>\n",
              "            <script>\n",
              "              requirejs.config({\n",
              "                paths: {\n",
              "                  base: '/static/base',\n",
              "                  plotly: 'https://cdn.plot.ly/plotly-latest.min.js?noext',\n",
              "                },\n",
              "              });\n",
              "            </script>\n",
              "            "
            ],
            "text/plain": [
              "<IPython.core.display.HTML object>"
            ]
          },
          "metadata": {
            "tags": []
          }
        },
        {
          "output_type": "stream",
          "text": [
            "Transformation Pipeline and Model Sucessfully Loaded\n"
          ],
          "name": "stdout"
        }
      ]
    },
    {
      "cell_type": "code",
      "metadata": {
        "id": "AVp0mP6r__zt",
        "colab_type": "code",
        "colab": {}
      },
      "source": [
        "new_prediction = predict_model(saved_final_lr, data=data_unseen)"
      ],
      "execution_count": 36,
      "outputs": []
    },
    {
      "cell_type": "code",
      "metadata": {
        "id": "yjFPiRBjAKck",
        "colab_type": "code",
        "colab": {
          "base_uri": "https://localhost:8080/",
          "height": 241
        },
        "outputId": "cd51b1c9-2802-4755-a70d-78b9a5d1a725"
      },
      "source": [
        "new_prediction.head()"
      ],
      "execution_count": 37,
      "outputs": [
        {
          "output_type": "display_data",
          "data": {
            "text/html": [
              "\n",
              "            <script src=\"/static/components/requirejs/require.js\"></script>\n",
              "            <script>\n",
              "              requirejs.config({\n",
              "                paths: {\n",
              "                  base: '/static/base',\n",
              "                  plotly: 'https://cdn.plot.ly/plotly-latest.min.js?noext',\n",
              "                },\n",
              "              });\n",
              "            </script>\n",
              "            "
            ],
            "text/plain": [
              "<IPython.core.display.HTML object>"
            ]
          },
          "metadata": {
            "tags": []
          }
        },
        {
          "output_type": "display_data",
          "data": {
            "text/html": [
              "\n",
              "            <script src=\"/static/components/requirejs/require.js\"></script>\n",
              "            <script>\n",
              "              requirejs.config({\n",
              "                paths: {\n",
              "                  base: '/static/base',\n",
              "                  plotly: 'https://cdn.plot.ly/plotly-latest.min.js?noext',\n",
              "                },\n",
              "              });\n",
              "            </script>\n",
              "            "
            ],
            "text/plain": [
              "<IPython.core.display.HTML object>"
            ]
          },
          "metadata": {
            "tags": []
          }
        },
        {
          "output_type": "execute_result",
          "data": {
            "text/html": [
              "<div>\n",
              "<style scoped>\n",
              "    .dataframe tbody tr th:only-of-type {\n",
              "        vertical-align: middle;\n",
              "    }\n",
              "\n",
              "    .dataframe tbody tr th {\n",
              "        vertical-align: top;\n",
              "    }\n",
              "\n",
              "    .dataframe thead th {\n",
              "        text-align: right;\n",
              "    }\n",
              "</style>\n",
              "<table border=\"1\" class=\"dataframe\">\n",
              "  <thead>\n",
              "    <tr style=\"text-align: right;\">\n",
              "      <th></th>\n",
              "      <th>Class</th>\n",
              "      <th>AGE</th>\n",
              "      <th>SEX</th>\n",
              "      <th>STEROID</th>\n",
              "      <th>ANTIVIRALS</th>\n",
              "      <th>FATIGUE</th>\n",
              "      <th>MALAISE</th>\n",
              "      <th>ANOREXIA</th>\n",
              "      <th>LIVER BIG</th>\n",
              "      <th>LIVER FIRM</th>\n",
              "      <th>SPLEEN PALPABLE</th>\n",
              "      <th>SPIDERS</th>\n",
              "      <th>ASCITES</th>\n",
              "      <th>VARICES</th>\n",
              "      <th>BILIRUBIN</th>\n",
              "      <th>ALK PHOSPHATE</th>\n",
              "      <th>SGOT</th>\n",
              "      <th>ALBUMIN</th>\n",
              "      <th>PROTIME</th>\n",
              "      <th>HISTOLOGY</th>\n",
              "      <th>Label</th>\n",
              "      <th>Score</th>\n",
              "    </tr>\n",
              "  </thead>\n",
              "  <tbody>\n",
              "    <tr>\n",
              "      <th>0</th>\n",
              "      <td>0</td>\n",
              "      <td>22</td>\n",
              "      <td>2</td>\n",
              "      <td>2.0</td>\n",
              "      <td>1</td>\n",
              "      <td>1</td>\n",
              "      <td>2</td>\n",
              "      <td>2</td>\n",
              "      <td>2.0</td>\n",
              "      <td>2.0</td>\n",
              "      <td>2.0</td>\n",
              "      <td>2.0</td>\n",
              "      <td>2.0</td>\n",
              "      <td>2.0</td>\n",
              "      <td>0.9</td>\n",
              "      <td>48.0</td>\n",
              "      <td>20.0</td>\n",
              "      <td>4.2</td>\n",
              "      <td>64.0</td>\n",
              "      <td>1</td>\n",
              "      <td>0</td>\n",
              "      <td>0.0041</td>\n",
              "    </tr>\n",
              "    <tr>\n",
              "      <th>1</th>\n",
              "      <td>1</td>\n",
              "      <td>39</td>\n",
              "      <td>1</td>\n",
              "      <td>1.0</td>\n",
              "      <td>1</td>\n",
              "      <td>1</td>\n",
              "      <td>1</td>\n",
              "      <td>2</td>\n",
              "      <td>2.0</td>\n",
              "      <td>1.0</td>\n",
              "      <td>2.0</td>\n",
              "      <td>2.0</td>\n",
              "      <td>2.0</td>\n",
              "      <td>2.0</td>\n",
              "      <td>2.3</td>\n",
              "      <td>280.0</td>\n",
              "      <td>98.0</td>\n",
              "      <td>3.8</td>\n",
              "      <td>40.0</td>\n",
              "      <td>1</td>\n",
              "      <td>0</td>\n",
              "      <td>0.0756</td>\n",
              "    </tr>\n",
              "    <tr>\n",
              "      <th>2</th>\n",
              "      <td>0</td>\n",
              "      <td>27</td>\n",
              "      <td>1</td>\n",
              "      <td>2.0</td>\n",
              "      <td>2</td>\n",
              "      <td>2</td>\n",
              "      <td>2</td>\n",
              "      <td>2</td>\n",
              "      <td>2.0</td>\n",
              "      <td>2.0</td>\n",
              "      <td>2.0</td>\n",
              "      <td>2.0</td>\n",
              "      <td>2.0</td>\n",
              "      <td>2.0</td>\n",
              "      <td>0.8</td>\n",
              "      <td>NaN</td>\n",
              "      <td>38.0</td>\n",
              "      <td>4.2</td>\n",
              "      <td>NaN</td>\n",
              "      <td>1</td>\n",
              "      <td>0</td>\n",
              "      <td>0.0148</td>\n",
              "    </tr>\n",
              "    <tr>\n",
              "      <th>3</th>\n",
              "      <td>1</td>\n",
              "      <td>38</td>\n",
              "      <td>1</td>\n",
              "      <td>1.0</td>\n",
              "      <td>2</td>\n",
              "      <td>1</td>\n",
              "      <td>1</td>\n",
              "      <td>1</td>\n",
              "      <td>2.0</td>\n",
              "      <td>1.0</td>\n",
              "      <td>2.0</td>\n",
              "      <td>1.0</td>\n",
              "      <td>1.0</td>\n",
              "      <td>1.0</td>\n",
              "      <td>1.2</td>\n",
              "      <td>118.0</td>\n",
              "      <td>16.0</td>\n",
              "      <td>2.8</td>\n",
              "      <td>NaN</td>\n",
              "      <td>2</td>\n",
              "      <td>0</td>\n",
              "      <td>0.4066</td>\n",
              "    </tr>\n",
              "    <tr>\n",
              "      <th>4</th>\n",
              "      <td>1</td>\n",
              "      <td>47</td>\n",
              "      <td>1</td>\n",
              "      <td>2.0</td>\n",
              "      <td>2</td>\n",
              "      <td>1</td>\n",
              "      <td>1</td>\n",
              "      <td>2</td>\n",
              "      <td>2.0</td>\n",
              "      <td>1.0</td>\n",
              "      <td>2.0</td>\n",
              "      <td>2.0</td>\n",
              "      <td>1.0</td>\n",
              "      <td>1.0</td>\n",
              "      <td>1.7</td>\n",
              "      <td>86.0</td>\n",
              "      <td>20.0</td>\n",
              "      <td>2.1</td>\n",
              "      <td>46.0</td>\n",
              "      <td>2</td>\n",
              "      <td>0</td>\n",
              "      <td>0.4992</td>\n",
              "    </tr>\n",
              "  </tbody>\n",
              "</table>\n",
              "</div>"
            ],
            "text/plain": [
              "   Class  AGE  SEX  STEROID  ...  PROTIME  HISTOLOGY  Label   Score\n",
              "0      0   22    2      2.0  ...     64.0          1      0  0.0041\n",
              "1      1   39    1      1.0  ...     40.0          1      0  0.0756\n",
              "2      0   27    1      2.0  ...      NaN          1      0  0.0148\n",
              "3      1   38    1      1.0  ...      NaN          2      0  0.4066\n",
              "4      1   47    1      2.0  ...     46.0          2      0  0.4992\n",
              "\n",
              "[5 rows x 22 columns]"
            ]
          },
          "metadata": {
            "tags": []
          },
          "execution_count": 37
        }
      ]
    }
  ]
}